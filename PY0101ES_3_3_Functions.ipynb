{
  "nbformat": 4,
  "nbformat_minor": 0,
  "metadata": {
    "kernelspec": {
      "display_name": "Python",
      "language": "python",
      "name": "conda-env-python-py"
    },
    "language_info": {
      "codemirror_mode": {
        "name": "ipython",
        "version": 3
      },
      "file_extension": ".py",
      "mimetype": "text/x-python",
      "name": "python",
      "nbconvert_exporter": "python",
      "pygments_lexer": "ipython3",
      "version": "3.6.13"
    },
    "colab": {
      "name": "PY0101ES-3-3-Functions.ipynb",
      "provenance": []
    }
  },
  "cells": [
    {
      "cell_type": "markdown",
      "metadata": {
        "id": "S63L5Hfh9FNd"
      },
      "source": [
        "<a href=\"https://cognitiveclass.ai/\">\n",
        "    <img src=\"https://s3-api.us-geo.objectstorage.softlayer.net/cf-courses-data/CognitiveClass/PY0101EN/Ad/CCLog.png\" width=\"200\" align=\"center\">\n",
        "</a>"
      ]
    },
    {
      "cell_type": "markdown",
      "metadata": {
        "id": "Lk1fN2C-9FNh"
      },
      "source": [
        "<h1>Funciones en Python</h1>"
      ]
    },
    {
      "cell_type": "markdown",
      "metadata": {
        "id": "aumHtFjZ9FNl"
      },
      "source": [
        "<p><strong>!Bienvenido!</strong> En este cuaderno aprenderás acerca de las funciones en el Lenguaje de Programación Python. Al final de este laboratorio, sabrás los conceptos básicos de una función, las variables y como usarlas.</p>"
      ]
    },
    {
      "cell_type": "markdown",
      "metadata": {
        "id": "RalY0_Ba9FNm"
      },
      "source": [
        "<h2>Tabla de Contenido</h2>\n",
        "<div class=\"alert alert-block alert-info\" style=\"margin-top: 20px\">\n",
        "    <ul>\n",
        "        <li>\n",
        "            <a href=\"#func\">Funciones</a>\n",
        "            <ul>\n",
        "                <li><a href=\"content\">¿Qué es una función?</a></li>\n",
        "                <li><a href=\"var\">Variables</a></li>\n",
        "                <li><a href=\"simple\">Las Funciones Facilitan las Cosas</a></li>\n",
        "            </ul>\n",
        "        </li>\n",
        "        <li><a href=\"pre\">Funciones Predefinidas</a></li>\n",
        "        <li><a href=\"if\">Usar las Sentencias y Bucles <code>if</code>/<code>else</code> en las Funciones</a></li>\n",
        "        <li><a href=\"default\">Configurar valores por defecto en el argumento de tus propias funciones</a></li>\n",
        "        <li><a href=\"global\">Variables Globales</a></li>\n",
        "        <li><a href=\"scope\">Alcance de un Variable</a></li>\n",
        "        <li>\n",
        "            <a href=\"#quiz\">Cuestionario sobre Funciones</a>\n",
        "        </li>\n",
        "    </ul>\n",
        "    <p>\n",
        "        Tiempo Estimado: <strong>40 min</strong>\n",
        "    </p>\n",
        "</div>\n",
        "\n",
        "<hr>"
      ]
    },
    {
      "cell_type": "markdown",
      "metadata": {
        "id": "DFDn2t8w9FNn"
      },
      "source": [
        "<h2 id=\"func\">Funciones</h2>"
      ]
    },
    {
      "cell_type": "markdown",
      "metadata": {
        "id": "22wn9b-f9FNo"
      },
      "source": [
        "Una función es un bloque de código reusable que realiza operaciones especificas. Permiten dividir las tareas y reusar el código en otros programas.\n",
        "\n",
        "Existen dos tipos de funciones:\n",
        "\n",
        "- <b>Funciones Predefinidas</b>\n",
        "- <b>Funciones Definidas por el Usuario</b>"
      ]
    },
    {
      "cell_type": "markdown",
      "metadata": {
        "id": "L0ogDBc-9FNp"
      },
      "source": [
        "<h3 id=\"content\">¿Qué es una función?</h3>"
      ]
    },
    {
      "cell_type": "markdown",
      "metadata": {
        "id": "ahcshJdX9FNp"
      },
      "source": [
        "Se pueden definir funciones que provean una funcionalidad requerida. Estas son unas sencillas reglas para definir funciones en Python:\n",
        "-  Los bloques de una función comienzan por <code>def</code> seguido del <code>nombre</code> y paréntesis <code>()</code>.\n",
        "-  Hay parámetros de entrada o argumentos que deben ir dentro de estos paréntesis. \n",
        "-  Se pueden definir también los parámetros que van dentro de los paréntesis.\n",
        "-  Cada función tiene un cuerpo, este comienza con dos puntos (<code>:</code>) y espaciado con sangría.\n",
        "-  Se puede colocar documentación antes del cuerpo. \n",
        "-  La sentencia <code>return</code> termina la función, opcionalmente puede regresar un valor.\n",
        "\n",
        "Un ejemplo de función que suma un valor al parámetro <code>a</code> e imprime y regresa el resultado como <code>b</code>:"
      ]
    },
    {
      "cell_type": "code",
      "metadata": {
        "tags": [],
        "id": "-gRjh3Jt9FNr"
      },
      "source": [
        "# Primera función de ejemplo: Sumar 1 en a y guardarlo en b\n",
        "\n",
        "def add(a):\n",
        "    b = a + 1\n",
        "    print(a, \"if you add one\", b)\n",
        "    return(b)"
      ],
      "execution_count": 1,
      "outputs": []
    },
    {
      "cell_type": "code",
      "metadata": {
        "colab": {
          "base_uri": "https://localhost:8080/"
        },
        "id": "hmKolrF99FNs",
        "outputId": "470b26de-4968-44d8-ca5f-379f92c7df1f"
      },
      "source": [
        "add(45)"
      ],
      "execution_count": 2,
      "outputs": [
        {
          "output_type": "stream",
          "text": [
            "45 if you add one 46\n"
          ],
          "name": "stdout"
        },
        {
          "output_type": "execute_result",
          "data": {
            "text/plain": [
              "46"
            ]
          },
          "metadata": {
            "tags": []
          },
          "execution_count": 2
        }
      ]
    },
    {
      "cell_type": "markdown",
      "metadata": {
        "id": "2eh9GIdh9FNv"
      },
      "source": [
        "La siguiente imagen muestra la terminología:"
      ]
    },
    {
      "cell_type": "markdown",
      "metadata": {
        "id": "7Nz47-vi9FNw"
      },
      "source": [
        "<img src=\"https://s3-api.us-geo.objectstorage.softlayer.net/cf-courses-data/CognitiveClass/PY0101EN/Chapter%203/Images/FuncsDefinition.png\" width=\"500\" /> "
      ]
    },
    {
      "cell_type": "markdown",
      "metadata": {
        "id": "bCPL-jfd9FNw"
      },
      "source": [
        "Se puede obtener ayuda sobre una función:"
      ]
    },
    {
      "cell_type": "code",
      "metadata": {
        "colab": {
          "base_uri": "https://localhost:8080/"
        },
        "id": "BZ6C-8wE9FNx",
        "outputId": "d19fd932-46da-46b9-eadc-5a971f15f627"
      },
      "source": [
        "# Obtener ayuda sobre la funcion add\n",
        "\n",
        "help(add)"
      ],
      "execution_count": 3,
      "outputs": [
        {
          "output_type": "stream",
          "text": [
            "Help on function add in module __main__:\n",
            "\n",
            "add(a)\n",
            "\n"
          ],
          "name": "stdout"
        }
      ]
    },
    {
      "cell_type": "markdown",
      "metadata": {
        "id": "-H16nhkK9FNy"
      },
      "source": [
        "Se puede llamar a la función:"
      ]
    },
    {
      "cell_type": "code",
      "metadata": {
        "colab": {
          "base_uri": "https://localhost:8080/"
        },
        "id": "35BjpY-99FNy",
        "outputId": "f668e51e-3ce4-4844-8a23-0f10398f9776"
      },
      "source": [
        "# Llamar a la función add()\n",
        "\n",
        "add(1)"
      ],
      "execution_count": 4,
      "outputs": [
        {
          "output_type": "stream",
          "text": [
            "1 if you add one 2\n"
          ],
          "name": "stdout"
        },
        {
          "output_type": "execute_result",
          "data": {
            "text/plain": [
              "2"
            ]
          },
          "metadata": {
            "tags": []
          },
          "execution_count": 4
        }
      ]
    },
    {
      "cell_type": "markdown",
      "metadata": {
        "id": "Xz1Jf8Dl9FN1"
      },
      "source": [
        "Si hacemos una llamada a la función con un nuevo argumento obtenemos un nuevo resultado:"
      ]
    },
    {
      "cell_type": "code",
      "metadata": {
        "colab": {
          "base_uri": "https://localhost:8080/"
        },
        "id": "bd93sjuP9FN1",
        "outputId": "eade30ad-6a8e-4b4c-ecbe-513491c4e7c9"
      },
      "source": [
        "# Llamar a la función add()\n",
        "\n",
        "add(2)"
      ],
      "execution_count": 5,
      "outputs": [
        {
          "output_type": "stream",
          "text": [
            "2 if you add one 3\n"
          ],
          "name": "stdout"
        },
        {
          "output_type": "execute_result",
          "data": {
            "text/plain": [
              "3"
            ]
          },
          "metadata": {
            "tags": []
          },
          "execution_count": 5
        }
      ]
    },
    {
      "cell_type": "markdown",
      "metadata": {
        "id": "8hQo2s5y9FN2"
      },
      "source": [
        "Podemos crear funciones diferentes. Por ejemplo, una función que multiplique dos numero. Los números estarán representados por las variables <code>a</code> y <code>b</code>:"
      ]
    },
    {
      "cell_type": "code",
      "metadata": {
        "tags": [],
        "id": "en9aoKMI9FN3"
      },
      "source": [
        "# Definir una función que multiplique dos numeros\n",
        "\n",
        "def Mult(a, b):\n",
        "    c = a * b\n",
        "    return(c)"
      ],
      "execution_count": 6,
      "outputs": []
    },
    {
      "cell_type": "markdown",
      "metadata": {
        "id": "pNreqFTZ9FN3"
      },
      "source": [
        "La misma función puede usarse para diferentes tipos de datos. Por ejemplo, multiplicar dos números enteros:"
      ]
    },
    {
      "cell_type": "code",
      "metadata": {
        "colab": {
          "base_uri": "https://localhost:8080/"
        },
        "id": "qWHpu4aZ9FN4",
        "outputId": "960df62e-f35c-4205-8a58-73b57f0b966c"
      },
      "source": [
        "# mult() multiplica dos números enteros\n",
        "\n",
        "Mult(2, 3)"
      ],
      "execution_count": 7,
      "outputs": [
        {
          "output_type": "execute_result",
          "data": {
            "text/plain": [
              "6"
            ]
          },
          "metadata": {
            "tags": []
          },
          "execution_count": 7
        }
      ]
    },
    {
      "cell_type": "markdown",
      "metadata": {
        "id": "8ybiPvwo9FN5"
      },
      "source": [
        "Dos numeros decimales:"
      ]
    },
    {
      "cell_type": "code",
      "metadata": {
        "colab": {
          "base_uri": "https://localhost:8080/"
        },
        "id": "Hrmz7uW-9FN5",
        "outputId": "abcfc3b6-ddc6-490c-938e-102189062f30"
      },
      "source": [
        "# mult() multiplica dos números decimales\n",
        "\n",
        "Mult(10.0, 3.14)"
      ],
      "execution_count": 8,
      "outputs": [
        {
          "output_type": "execute_result",
          "data": {
            "text/plain": [
              "31.400000000000002"
            ]
          },
          "metadata": {
            "tags": []
          },
          "execution_count": 8
        }
      ]
    },
    {
      "cell_type": "markdown",
      "metadata": {
        "id": "ad4EtcpQ9FN6"
      },
      "source": [
        "Incluso replica una cadena al multiplicarla por un número entero:"
      ]
    },
    {
      "cell_type": "code",
      "metadata": {
        "colab": {
          "base_uri": "https://localhost:8080/",
          "height": 35
        },
        "id": "UrG213JB9FN6",
        "outputId": "6abc8a27-a971-4a16-d34a-f566c5f5dcf3"
      },
      "source": [
        "# mult() multiplica dos valores de distinto tipo\n",
        "\n",
        "Mult(2, \"Michael Jackson \")"
      ],
      "execution_count": 9,
      "outputs": [
        {
          "output_type": "execute_result",
          "data": {
            "application/vnd.google.colaboratory.intrinsic+json": {
              "type": "string"
            },
            "text/plain": [
              "'Michael Jackson Michael Jackson '"
            ]
          },
          "metadata": {
            "tags": []
          },
          "execution_count": 9
        }
      ]
    },
    {
      "cell_type": "markdown",
      "metadata": {
        "id": "ZPWEoHX89FN7"
      },
      "source": [
        "<h3 id=\"var\">Variables</h3>"
      ]
    },
    {
      "cell_type": "markdown",
      "metadata": {
        "id": "GTRCnvcN9FN7"
      },
      "source": [
        "El valor de entrada dado a una función se llama parámetro formal.\n",
        "\n",
        "Una variable declarada dentro de una función se conoce como variable local. El parámetro solo existe dentro de la función (esto es, entre el comienzo y final de la función).\n",
        "\n",
        "Una variable declarada afuera de la función es una variable global y su valor se puede acceder o modificar desde cualquier punto del programa. Discutiremos mas acerca de las variables globales al final del laboratorio.\n"
      ]
    },
    {
      "cell_type": "code",
      "metadata": {
        "id": "FjXFX0V59FN8"
      },
      "source": [
        "# Definición de una Función\n",
        "\n",
        "def square(a):\n",
        "    \n",
        "    # Variable Local b\n",
        "    b = 1\n",
        "    c = a * a + b\n",
        "    print(a, \"if you square + 1\", c) \n",
        "    return(c)"
      ],
      "execution_count": 10,
      "outputs": []
    },
    {
      "cell_type": "markdown",
      "metadata": {
        "id": "Ivz-Aby99FN9"
      },
      "source": [
        "Las etiquetas se muestran en la imagen:"
      ]
    },
    {
      "cell_type": "markdown",
      "metadata": {
        "id": "4Tym5WqG9FN9"
      },
      "source": [
        "<img src=\"https://s3-api.us-geo.objectstorage.softlayer.net/cf-courses-data/CognitiveClass/PY0101EN/Chapter%203/Images/FuncsVar.png\" width=\"500\" />"
      ]
    },
    {
      "cell_type": "markdown",
      "metadata": {
        "id": "NoRbvTAT9FN-"
      },
      "source": [
        "Podemos llamar una función con el <b>3</b> como entrada:"
      ]
    },
    {
      "cell_type": "code",
      "metadata": {
        "colab": {
          "base_uri": "https://localhost:8080/"
        },
        "id": "1wyhbHFA9FN-",
        "outputId": "34e3fb87-a6e7-43de-e1b5-15c0ba7f2ed2"
      },
      "source": [
        "# Inicializar Variable Global \n",
        "\n",
        "x = 3\n",
        "# Hacer llamada de la función y regresar el valor a la variable y\n",
        "y = square(x)\n",
        "y"
      ],
      "execution_count": 11,
      "outputs": [
        {
          "output_type": "stream",
          "text": [
            "3 if you square + 1 10\n"
          ],
          "name": "stdout"
        },
        {
          "output_type": "execute_result",
          "data": {
            "text/plain": [
              "10"
            ]
          },
          "metadata": {
            "tags": []
          },
          "execution_count": 11
        }
      ]
    },
    {
      "cell_type": "markdown",
      "metadata": {
        "id": "_adTyV1g9FN_"
      },
      "source": [
        "Podemos llamar una función con el <b>3</b> como entrada de otra manera:"
      ]
    },
    {
      "cell_type": "code",
      "metadata": {
        "colab": {
          "base_uri": "https://localhost:8080/"
        },
        "id": "YkQlPcn-9FOA",
        "outputId": "6bfb55d5-a43c-4f1c-f33d-7bd5d44ce10e"
      },
      "source": [
        "# Ingresar directamente un número como parámetro\n",
        "\n",
        "square(2)"
      ],
      "execution_count": 12,
      "outputs": [
        {
          "output_type": "stream",
          "text": [
            "2 if you square + 1 5\n"
          ],
          "name": "stdout"
        },
        {
          "output_type": "execute_result",
          "data": {
            "text/plain": [
              "5"
            ]
          },
          "metadata": {
            "tags": []
          },
          "execution_count": 12
        }
      ]
    },
    {
      "cell_type": "markdown",
      "metadata": {
        "id": "LWN1nEbr9FOA"
      },
      "source": [
        "Si no existe una declaración <code>return</code>, la función regresa <code>Nada</code>. Las siguientes funciones son equivalentes:"
      ]
    },
    {
      "cell_type": "code",
      "metadata": {
        "id": "bmHOLz7z9FOB"
      },
      "source": [
        "# Definir funciones, una con un valor de retorno None y otra sin valor de retorno\n",
        "\n",
        "def MJ():\n",
        "    print('Michael Jackson')\n",
        "    \n",
        "def MJ1():\n",
        "    print('Michael Jackson')\n",
        "    return(None)"
      ],
      "execution_count": 13,
      "outputs": []
    },
    {
      "cell_type": "code",
      "metadata": {
        "colab": {
          "base_uri": "https://localhost:8080/"
        },
        "id": "3T9ifP2g9FOB",
        "outputId": "a7e56557-f0b3-440c-eff3-8f489c98f9e6"
      },
      "source": [
        "# Ver la salida\n",
        "\n",
        "MJ()"
      ],
      "execution_count": 14,
      "outputs": [
        {
          "output_type": "stream",
          "text": [
            "Michael Jackson\n"
          ],
          "name": "stdout"
        }
      ]
    },
    {
      "cell_type": "code",
      "metadata": {
        "colab": {
          "base_uri": "https://localhost:8080/"
        },
        "id": "nhkrAa6E9FOC",
        "outputId": "eda68861-b80f-459c-bc69-028c56942710"
      },
      "source": [
        "# Ver la salida\n",
        "\n",
        "MJ1()"
      ],
      "execution_count": 15,
      "outputs": [
        {
          "output_type": "stream",
          "text": [
            "Michael Jackson\n"
          ],
          "name": "stdout"
        }
      ]
    },
    {
      "cell_type": "markdown",
      "metadata": {
        "id": "B4an86ew9FOE"
      },
      "source": [
        "Imprimir la función después de una llamada revela que un **None** es el valor de retorno por defecto"
      ]
    },
    {
      "cell_type": "code",
      "metadata": {
        "colab": {
          "base_uri": "https://localhost:8080/"
        },
        "id": "m6mugJTy9FOG",
        "outputId": "2655a6b3-cd83-4384-df1b-988e924fc0d8"
      },
      "source": [
        "# Ver los valores de retorno de las funciones\n",
        "\n",
        "print(MJ())\n",
        "print(MJ1())"
      ],
      "execution_count": 16,
      "outputs": [
        {
          "output_type": "stream",
          "text": [
            "Michael Jackson\n",
            "None\n",
            "Michael Jackson\n",
            "None\n"
          ],
          "name": "stdout"
        }
      ]
    },
    {
      "cell_type": "markdown",
      "metadata": {
        "id": "VU39x4d69FOH"
      },
      "source": [
        "Crear una función llamada <code>con</code> que concatene dos cadenas usando la operación de suma:"
      ]
    },
    {
      "cell_type": "code",
      "metadata": {
        "tags": [],
        "id": "WuQNquir9FOH"
      },
      "source": [
        "# Definir una función que combina cadenas\n",
        "\n",
        "def con(a, b):\n",
        "    return(a + b)"
      ],
      "execution_count": 17,
      "outputs": []
    },
    {
      "cell_type": "code",
      "metadata": {
        "colab": {
          "base_uri": "https://localhost:8080/",
          "height": 35
        },
        "id": "gwSn4gpR9FOI",
        "outputId": "0f74d9d6-c31f-46ab-81e3-42ff3ff47875"
      },
      "source": [
        "# Comprobar con la función con()\n",
        "\n",
        "con(\"This \", \"is\")"
      ],
      "execution_count": 18,
      "outputs": [
        {
          "output_type": "execute_result",
          "data": {
            "application/vnd.google.colaboratory.intrinsic+json": {
              "type": "string"
            },
            "text/plain": [
              "'This is'"
            ]
          },
          "metadata": {
            "tags": []
          },
          "execution_count": 18
        }
      ]
    },
    {
      "cell_type": "markdown",
      "metadata": {
        "id": "4uNXwln_9FOI"
      },
      "source": [
        "<hr/>\n",
        "    <div class=\"alert alert-success alertsuccess\" style=\"margin-top: 20px\">\n",
        "        <h4> [Tip] ¿Como puedo aprender más acerca de las funciones predefinidas en Python? </h4>\n",
        "        <p>Presentaremos una variedad de funciones predefinidas a medida que aprendes mas sombre Python. Hay demasiadas funciones, así que es imposible poder enseñarlas todas de una sola vez. Si sientes curiosidad, puedes revisar esta tarjeta de referencia sobre algunas de las funciones predefinidas mas usadas: <a href=\"http://www.astro.up.pt/~sousasag/Python_For_Astronomers/Python_qr.pdf\">Referencia</a></p>\n",
        "    </div>\n",
        "<hr/>"
      ]
    },
    {
      "cell_type": "markdown",
      "metadata": {
        "id": "YhDmMgFV9FOJ"
      },
      "source": [
        "<h3 id=\"simple\">Las Funciones Facilitan las Cosas</h3>"
      ]
    },
    {
      "cell_type": "markdown",
      "metadata": {
        "id": "MF_zr7LH9FOK"
      },
      "source": [
        "Considera las dos líneas de código en el <b>Bloque 1</b> y <b>Bloque 2</b>: el procedimiento para cada bloque es idéntico. La única diferencia son los nombres y valores de las variables."
      ]
    },
    {
      "cell_type": "markdown",
      "metadata": {
        "id": "dSAQxog39FOK"
      },
      "source": [
        "<h4>Bloque 1:</h4>"
      ]
    },
    {
      "cell_type": "code",
      "metadata": {
        "colab": {
          "base_uri": "https://localhost:8080/"
        },
        "id": "54tW8fot9FOL",
        "outputId": "a4d44460-613f-4231-f7f1-aea8868e4300"
      },
      "source": [
        "# Bloque 1 - Calculos de a y b\n",
        "\n",
        "a1 = 4\n",
        "b1 = 5\n",
        "c1 = a1 + b1 + 2 * a1 * b1 - 1\n",
        "if(c1 < 0):\n",
        "    c1 = 0 \n",
        "else:\n",
        "    c1 = 5\n",
        "c1   "
      ],
      "execution_count": 19,
      "outputs": [
        {
          "output_type": "execute_result",
          "data": {
            "text/plain": [
              "5"
            ]
          },
          "metadata": {
            "tags": []
          },
          "execution_count": 19
        }
      ]
    },
    {
      "cell_type": "markdown",
      "metadata": {
        "id": "Y5s3IzOI9FOM"
      },
      "source": [
        "<h4>Bloque 2:</h4>"
      ]
    },
    {
      "cell_type": "code",
      "metadata": {
        "colab": {
          "base_uri": "https://localhost:8080/"
        },
        "id": "xj6KgAJl9FOM",
        "outputId": "5f70f806-0a12-4b5a-c5c3-6031210bb38c"
      },
      "source": [
        "# Bloque 2 - Calculos de a y b\n",
        "\n",
        "a2 = 0\n",
        "b2 = 0\n",
        "c2 = a2 + b2 + 2 * a2 * b2 - 1\n",
        "if(c2 < 0):\n",
        "    c2 = 0 \n",
        "else:\n",
        "    c2 = 5\n",
        "c2   "
      ],
      "execution_count": 20,
      "outputs": [
        {
          "output_type": "execute_result",
          "data": {
            "text/plain": [
              "0"
            ]
          },
          "metadata": {
            "tags": []
          },
          "execution_count": 20
        }
      ]
    },
    {
      "cell_type": "markdown",
      "metadata": {
        "id": "6aACcYRs9FON"
      },
      "source": [
        "Podemos remplazar las líneas de código por una función. Una función combina muchas instrucciones en una simple línea de código. Una vez que una función es definida, puede usarse repetidamente. Se puede invocar la misma función muchas veces dentro de un programa. La función puede guardarse y usarse en otro programa o usar la función de alguien mas. Las líneas de código del <b>Bloque 1</b> y el <b>Bloque 2</b> pueden ser reemplazadas por la siguiente función:"
      ]
    },
    {
      "cell_type": "code",
      "metadata": {
        "id": "rRAoLk_J9FOO"
      },
      "source": [
        "# Definir una función para los cálculos de arriba\n",
        "\n",
        "def Equation(a,b):\n",
        "    c = a + b + 2 * a * b - 1\n",
        "    if(c < 0):\n",
        "        c = 0 \n",
        "    else:\n",
        "        c = 5\n",
        "    return(c) "
      ],
      "execution_count": 21,
      "outputs": []
    },
    {
      "cell_type": "markdown",
      "metadata": {
        "id": "bL_fVXMV9FOP"
      },
      "source": [
        "Esta función toma dos variables, a y b, después emplea algunas operaciones para regresar c. Simplemente definimos la función, reemplazamos las instrucciones con la función e ingresamos los nuevos valores de <code>a1</code>, <code>b1</code> y <code>a2</code>, <code>b2</code>. Todo el proceso se muestra en la imagen:"
      ]
    },
    {
      "cell_type": "markdown",
      "metadata": {
        "id": "LVgKV6TN9FOQ"
      },
      "source": [
        "<img src=\"https://s3-api.us-geo.objectstorage.softlayer.net/cf-courses-data/CognitiveClass/PY0101EN/Chapter%203/Images/FuncsPros.gif\" width=\"850\" />"
      ]
    },
    {
      "cell_type": "markdown",
      "metadata": {
        "id": "1UxlQki29FOR"
      },
      "source": [
        "El código en el **Bloque 1** y **Bloque 2** ahora pueden ser reemplazados con el código del **Bloque 3** y **Bloque 4**."
      ]
    },
    {
      "cell_type": "markdown",
      "metadata": {
        "id": "pJNr7gV49FOS"
      },
      "source": [
        "<h4>Bloque 3:</h4>"
      ]
    },
    {
      "cell_type": "code",
      "metadata": {
        "colab": {
          "base_uri": "https://localhost:8080/"
        },
        "id": "dudJJfjL9FOS",
        "outputId": "9f067d95-f15b-4b84-a90d-1517509ddd3e"
      },
      "source": [
        "a1 = 4\n",
        "b1 = 5\n",
        "c1 = Equation(a1, b1)\n",
        "c1"
      ],
      "execution_count": 22,
      "outputs": [
        {
          "output_type": "execute_result",
          "data": {
            "text/plain": [
              "5"
            ]
          },
          "metadata": {
            "tags": []
          },
          "execution_count": 22
        }
      ]
    },
    {
      "cell_type": "markdown",
      "metadata": {
        "id": "sAhMqkMh9FOT"
      },
      "source": [
        "<h4>Bloque 4:</h4>"
      ]
    },
    {
      "cell_type": "code",
      "metadata": {
        "colab": {
          "base_uri": "https://localhost:8080/"
        },
        "id": "0WErzg139FOT",
        "outputId": "7e0cc7b6-996f-4f74-d9a0-176fe7b23061"
      },
      "source": [
        "a2 = 0\n",
        "b2 = 0\n",
        "c2 = Equation(a2, b2)\n",
        "c2"
      ],
      "execution_count": 23,
      "outputs": [
        {
          "output_type": "execute_result",
          "data": {
            "text/plain": [
              "0"
            ]
          },
          "metadata": {
            "tags": []
          },
          "execution_count": 23
        }
      ]
    },
    {
      "cell_type": "markdown",
      "metadata": {
        "id": "h75dU5Ie9FOX"
      },
      "source": [
        "<hr>"
      ]
    },
    {
      "cell_type": "markdown",
      "metadata": {
        "id": "jssZzYYy9FOY"
      },
      "source": [
        "<h2 id=\"pre\">Funciones Predefinidas</h2>"
      ]
    },
    {
      "cell_type": "markdown",
      "metadata": {
        "id": "VPtfkwis9FOZ"
      },
      "source": [
        "Existen muchas funciones predefinidas en Python, veamos primero unas sencillas."
      ]
    },
    {
      "cell_type": "markdown",
      "metadata": {
        "id": "0YfwopsA9FOZ"
      },
      "source": [
        "La función <code>print()</code>:"
      ]
    },
    {
      "cell_type": "code",
      "metadata": {
        "colab": {
          "base_uri": "https://localhost:8080/"
        },
        "id": "Qgd29TbE9FOZ",
        "outputId": "f568740a-9de6-4894-d526-768b2dbf61b6"
      },
      "source": [
        "# Función print()\n",
        "\n",
        "album_ratings = [10.0, 8.5, 9.5, 7.0, 7.0, 9.5, 9.0, 9.5] \n",
        "print(album_ratings)"
      ],
      "execution_count": 24,
      "outputs": [
        {
          "output_type": "stream",
          "text": [
            "[10.0, 8.5, 9.5, 7.0, 7.0, 9.5, 9.0, 9.5]\n"
          ],
          "name": "stdout"
        }
      ]
    },
    {
      "cell_type": "markdown",
      "metadata": {
        "id": "cN9EtuFs9FOb"
      },
      "source": [
        "La función <code>sum()</code> suma todos los elementos en una lista o tupla:"
      ]
    },
    {
      "cell_type": "code",
      "metadata": {
        "colab": {
          "base_uri": "https://localhost:8080/"
        },
        "id": "G5I9tSUX9FOb",
        "outputId": "6a86874a-a297-4cb0-f0d9-ac58b9259624"
      },
      "source": [
        "# Usar sum() para sumar cada elemento en una lista o tupla\n",
        "\n",
        "sum(album_ratings)"
      ],
      "execution_count": 25,
      "outputs": [
        {
          "output_type": "execute_result",
          "data": {
            "text/plain": [
              "70.0"
            ]
          },
          "metadata": {
            "tags": []
          },
          "execution_count": 25
        }
      ]
    },
    {
      "cell_type": "markdown",
      "metadata": {
        "id": "D9tdSlai9FOc"
      },
      "source": [
        "La función <code>len()</code> regresa la longitud de una lista o tupla:"
      ]
    },
    {
      "cell_type": "code",
      "metadata": {
        "colab": {
          "base_uri": "https://localhost:8080/"
        },
        "id": "pokeCLyo9FOc",
        "outputId": "ac5c6379-3db6-42ec-b46b-e1aba25f80be"
      },
      "source": [
        "# Muestra la longitud de una lista o tupla\n",
        "\n",
        "len(album_ratings)"
      ],
      "execution_count": 26,
      "outputs": [
        {
          "output_type": "execute_result",
          "data": {
            "text/plain": [
              "8"
            ]
          },
          "metadata": {
            "tags": []
          },
          "execution_count": 26
        }
      ]
    },
    {
      "cell_type": "markdown",
      "metadata": {
        "id": "KsQCDywr9FOd"
      },
      "source": [
        "<h2 id=\"if\">Usar las Sentencias y Bucles <code>if</code>/<code>else</code> en las Funciones</h2>"
      ]
    },
    {
      "cell_type": "markdown",
      "metadata": {
        "id": "fo6U42AO9FOd"
      },
      "source": [
        "La función <code>return()</code> es especialmente útil si existen declaraciones IF dentro de la función y se quiere que la salida dependa de la alguna condición:"
      ]
    },
    {
      "cell_type": "code",
      "metadata": {
        "colab": {
          "base_uri": "https://localhost:8080/"
        },
        "id": "QzVYkOnb9FOf",
        "outputId": "6acc3df9-ed45-4a21-a01b-5b403fc5ddb1"
      },
      "source": [
        "# Función de ejemplo\n",
        "\n",
        "def type_of_album(artist, album, year_released):\n",
        "    \n",
        "    print(artist, album, year_released)\n",
        "    if year_released > 1980:\n",
        "        return \"Modern\"\n",
        "    else:\n",
        "        return \"Oldie\"\n",
        "    \n",
        "x = type_of_album(\"Michael Jackson\", \"Thriller\", 1980)\n",
        "print(x)"
      ],
      "execution_count": 27,
      "outputs": [
        {
          "output_type": "stream",
          "text": [
            "Michael Jackson Thriller 1980\n",
            "Oldie\n"
          ],
          "name": "stdout"
        }
      ]
    },
    {
      "cell_type": "markdown",
      "metadata": {
        "id": "O48wiRRx9FOi"
      },
      "source": [
        "Se pueden usar bucles en una función. Por ejemplo, podemos usar <code>print</code> para imprimir cada elemento en una lista:"
      ]
    },
    {
      "cell_type": "code",
      "metadata": {
        "tags": [],
        "id": "oJOPo_H29FOj"
      },
      "source": [
        "# Imprimir la lista usando un ciclo for\n",
        "\n",
        "def PrintList(the_list):\n",
        "    for element in the_list:\n",
        "        print(element)"
      ],
      "execution_count": 28,
      "outputs": []
    },
    {
      "cell_type": "code",
      "metadata": {
        "colab": {
          "base_uri": "https://localhost:8080/"
        },
        "id": "FEven2J09FOj",
        "outputId": "8c6f21ff-52f3-4540-a93d-b00465b94f66"
      },
      "source": [
        "# Implementar la funcion printlist\n",
        "\n",
        "PrintList(['1', 1, 'the man', \"abc\"])"
      ],
      "execution_count": 29,
      "outputs": [
        {
          "output_type": "stream",
          "text": [
            "1\n",
            "1\n",
            "the man\n",
            "abc\n"
          ],
          "name": "stdout"
        }
      ]
    },
    {
      "cell_type": "markdown",
      "metadata": {
        "id": "w1EcL6NN9FOk"
      },
      "source": [
        "<hr>"
      ]
    },
    {
      "cell_type": "markdown",
      "metadata": {
        "id": "NO_Z3t9E9FOk"
      },
      "source": [
        "<h2 id=\"default\">Configurar valores por defecto en el argumento de tus propias funciones</h2>"
      ]
    },
    {
      "cell_type": "markdown",
      "metadata": {
        "id": "t4drynFT9FOn"
      },
      "source": [
        "Se puede definir un valor por defecto en el argumento de la función. Por ejemplo, en la función <code>isGoodRating()</code>, ¿Y si queremos crear un limite para lo que pudieras considerar una buena calificación (rating)? Quizás por defecto, pudiéramos darle un valor de 4:"
      ]
    },
    {
      "cell_type": "code",
      "metadata": {
        "id": "D5Aa1KZ_9FOn"
      },
      "source": [
        "# Ejemplo de definición de parametros con un valor por defecto\n",
        "\n",
        "def isGoodRating(rating=4): \n",
        "    if(rating < 7):\n",
        "        print(\"this album sucks it's rating is\",rating)\n",
        "        \n",
        "    else:\n",
        "        print(\"this album is good its rating is\",rating)\n"
      ],
      "execution_count": 30,
      "outputs": []
    },
    {
      "cell_type": "code",
      "metadata": {
        "colab": {
          "base_uri": "https://localhost:8080/"
        },
        "id": "8ifFBLNw9FOo",
        "outputId": "ccd6a4a6-e838-479c-89ba-ec17c9c313ce"
      },
      "source": [
        "# Probar el resultado usando un valor por defecto\n",
        "\n",
        "isGoodRating()\n",
        "isGoodRating(10)"
      ],
      "execution_count": 31,
      "outputs": [
        {
          "output_type": "stream",
          "text": [
            "this album sucks it's rating is 4\n",
            "this album is good its rating is 10\n"
          ],
          "name": "stdout"
        }
      ]
    },
    {
      "cell_type": "markdown",
      "metadata": {
        "id": "FQLQwFBO9FOp"
      },
      "source": [
        "<hr>"
      ]
    },
    {
      "cell_type": "markdown",
      "metadata": {
        "id": "d1dBBGpo9FOp"
      },
      "source": [
        "<h2 id=\"global\">Variables Globales</h2>"
      ]
    },
    {
      "cell_type": "markdown",
      "metadata": {
        "id": "FinpdIj-9FOp"
      },
      "source": [
        "Hasta ahora, hemos creado las variables dentro de las funciones, pero aun no se han mencionado aquellas que declaradas fuera de la función. Se les conoces como variables globales.\n",
        "\n",
        "Veamos que regresa <code>printer1</code>:"
      ]
    },
    {
      "cell_type": "code",
      "metadata": {
        "colab": {
          "base_uri": "https://localhost:8080/"
        },
        "id": "6ZoJQ5ZN9FOq",
        "outputId": "1db29323-c05a-427e-cb7a-8cc2ee80485d"
      },
      "source": [
        "# Ejemplo de variable global\n",
        "\n",
        "artist = \"Michael Jackson\"\n",
        "def printer1(artist):\n",
        "    internal_var = artist\n",
        "    print(artist, \"is an artist\")\n",
        "    \n",
        "printer1(artist)"
      ],
      "execution_count": 32,
      "outputs": [
        {
          "output_type": "stream",
          "text": [
            "Michael Jackson is an artist\n"
          ],
          "name": "stdout"
        }
      ]
    },
    {
      "cell_type": "markdown",
      "metadata": {
        "id": "FNs7A7oz9FOq"
      },
      "source": [
        "Al imprimir <code>internal_var</code> obtenemos un error."
      ]
    },
    {
      "cell_type": "markdown",
      "metadata": {
        "id": "lsC3yfWB9FOr"
      },
      "source": [
        "<b>Obtenemos el error: <code>name 'internal_var' is not defined</code>. ¿Por que? </b>\n",
        "\n",
        "Es debido a que todas las variables que se crearon en la función son <b>variables locales</b>, de modo que las variables no persisten fuera de la función.\n",
        "\n",
        "Hay una forma de crear <b>variables globales</b> desde dentro de una función, de la siguiente manera:"
      ]
    },
    {
      "cell_type": "code",
      "metadata": {
        "colab": {
          "base_uri": "https://localhost:8080/"
        },
        "id": "wRP9ZhR49FOr",
        "outputId": "52962f23-3ea2-484c-85fa-a5055bbaaba5"
      },
      "source": [
        "artist = \"Michael Jackson\"\n",
        "\n",
        "def printer(artist):\n",
        "    global internal_var \n",
        "    internal_var= \"Whitney Houston\"\n",
        "    print(artist,\"is an artist\")\n",
        "\n",
        "printer(artist) \n",
        "printer(internal_var)"
      ],
      "execution_count": 33,
      "outputs": [
        {
          "output_type": "stream",
          "text": [
            "Michael Jackson is an artist\n",
            "Whitney Houston is an artist\n"
          ],
          "name": "stdout"
        }
      ]
    },
    {
      "cell_type": "markdown",
      "metadata": {
        "id": "pBJKdEpy9FOs"
      },
      "source": [
        "<h2 id=\"scope\">Alcance de un Variable</h2>"
      ]
    },
    {
      "cell_type": "markdown",
      "metadata": {
        "id": "FhIOf3-v9FOs"
      },
      "source": [
        "El alcance de una variable es la parte del programa desde la cual se puede acceder. Las variables declaradas fuera de las funciones, como la variable <code>myFavouriteBand</code>, son accedidas desde cualquier parte del programa. Por ende, se dice que dicha variable tiene un alcance global, de ahí que se les llame variables globales.\n",
        "<code>myFavouriteBand</code> es una variable global, y es posible accederla desde la función <code>getBandRating</code>, y podemos usarla para determinar la calificación de un grupo musical. También podemos usarla dese fuera de la función, por ejemplo, si deseamos pasar su valor a la función encargada de imprimirla y mostrarla:"
      ]
    },
    {
      "cell_type": "code",
      "metadata": {
        "colab": {
          "base_uri": "https://localhost:8080/"
        },
        "id": "zi3SIeJk9FOt",
        "outputId": "17329d71-1ea1-40d7-b54f-40d7f74c2411"
      },
      "source": [
        "# Ejemplo de una variable global\n",
        "\n",
        "myFavouriteBand = \"AC/DC\"\n",
        "\n",
        "def getBandRating(bandname):\n",
        "    if bandname == myFavouriteBand:\n",
        "        return 10.0\n",
        "    else:\n",
        "        return 0.0\n",
        "\n",
        "print(\"AC/DC's rating is:\", getBandRating(\"AC/DC\"))\n",
        "print(\"Deep Purple's rating is:\",getBandRating(\"Deep Purple\"))\n",
        "print(\"My favourite band is:\", myFavouriteBand)"
      ],
      "execution_count": 34,
      "outputs": [
        {
          "output_type": "stream",
          "text": [
            "AC/DC's rating is: 10.0\n",
            "Deep Purple's rating is: 0.0\n",
            "My favourite band is: AC/DC\n"
          ],
          "name": "stdout"
        }
      ]
    },
    {
      "cell_type": "markdown",
      "metadata": {
        "id": "af78y7OJ9FOy"
      },
      "source": [
        "Observa esta versión modificada de nuestro código. Ahora, la variable <code>myFavouriteBand</code> esta definida dentro de la función <code>getBandRating</code>. A una variable que esta definida dentro de una función se le conoce como variable local de dicha función. Esto significa que solo se puede acceder a ella dentro de la función donde fue declarada. Nuestra función <code>getBandRating</code> aun funcionara debido a que <code>myFavouriteBand</code> esta definida dentro de la función. Sin embargo, no podremos imprimir <code>myFavouriteBand</code> fuera de la función porque es de alcance local dentro de la funcion <code>getBandRating</code>; esta definida solo dentro de <code>getBandRating</code>:"
      ]
    },
    {
      "cell_type": "code",
      "metadata": {
        "colab": {
          "base_uri": "https://localhost:8080/"
        },
        "id": "gPuR4qOV9FO0",
        "outputId": "27b794d9-f37c-4e1b-91e1-bb8cc6b39b5c"
      },
      "source": [
        "# Ejemplo de una variable local\n",
        "\n",
        "def getBandRating(bandname):\n",
        "    myFavouriteBand = \"AC/DC\"\n",
        "    if bandname == myFavouriteBand:\n",
        "        return 10.0\n",
        "    else:\n",
        "        return 0.0\n",
        "\n",
        "print(\"AC/DC's rating is: \", getBandRating(\"AC/DC\"))\n",
        "print(\"Deep Purple's rating is: \", getBandRating(\"Deep Purple\"))\n",
        "print(\"My favourite band is\", myFavouriteBand)"
      ],
      "execution_count": 35,
      "outputs": [
        {
          "output_type": "stream",
          "text": [
            "AC/DC's rating is:  10.0\n",
            "Deep Purple's rating is:  0.0\n",
            "My favourite band is AC/DC\n"
          ],
          "name": "stdout"
        }
      ]
    },
    {
      "cell_type": "markdown",
      "metadata": {
        "id": "RymmcVIX9FO1"
      },
      "source": [
        "Para finalizar, revisemos este ejemplo. Ahora tenemos declaradas dos variables <code>myFavouriteBand</code>. La primera tiene un alcance global, la segunda es local dentro de la función <code>getBandRating</code>. Dentro de la función <code>getBandRating</code> la variable local tiene preferencia. **Deep Purple** recibirá una calificación de 10.0 cuando sea pasada a la función <code>getBandRating</code>. Sin embargo, afuera de la función <code>getBandRating</code>, la varible local <code>getBandRating</code> no esta definida, así que la variable <code>myFavouriteBand</code> que será impresa va a ser la que tiene alcance global, la cual tiene el valor **AC/DC**:"
      ]
    },
    {
      "cell_type": "code",
      "metadata": {
        "colab": {
          "base_uri": "https://localhost:8080/"
        },
        "id": "E8j7tu1V9FO4",
        "outputId": "0a02214e-6c38-4624-f6ae-b55e4399471b"
      },
      "source": [
        "# Ejemplo de una variable local y global con el mismo nombre\n",
        "\n",
        "myFavouriteBand = \"AC/DC\"\n",
        "\n",
        "def getBandRating(bandname):\n",
        "    myFavouriteBand = \"Deep Purple\"\n",
        "    if bandname == myFavouriteBand:\n",
        "        return 10.0\n",
        "    else:\n",
        "        return 0.0\n",
        "\n",
        "print(\"AC/DC's rating is:\",getBandRating(\"AC/DC\"))\n",
        "print(\"Deep Purple's rating is: \",getBandRating(\"Deep Purple\"))\n",
        "print(\"My favourite band is:\",myFavouriteBand)"
      ],
      "execution_count": 36,
      "outputs": [
        {
          "output_type": "stream",
          "text": [
            "AC/DC's rating is: 0.0\n",
            "Deep Purple's rating is:  10.0\n",
            "My favourite band is: AC/DC\n"
          ],
          "name": "stdout"
        }
      ]
    },
    {
      "cell_type": "markdown",
      "metadata": {
        "id": "Vp5w-m6A9FO4"
      },
      "source": [
        "<h2>Cuestionario sobre Funciones</h2>"
      ]
    },
    {
      "cell_type": "markdown",
      "metadata": {
        "id": "pUId3JJF9FO5"
      },
      "source": [
        "Haz una función que divida el primer argumento por el segundo:"
      ]
    },
    {
      "cell_type": "code",
      "metadata": {
        "colab": {
          "base_uri": "https://localhost:8080/"
        },
        "id": "g8FLH8zx9FO5",
        "outputId": "8f88ac16-48a7-42da-c769-1e16cb79090c"
      },
      "source": [
        "# Escribe abajo tu código y presiona Shift+Enter para ejecutarlo\n",
        "def div(a,b):\n",
        "    c = a/b\n",
        "    return (c)\n",
        "\n",
        "div(7,2)"
      ],
      "execution_count": 37,
      "outputs": [
        {
          "output_type": "execute_result",
          "data": {
            "text/plain": [
              "3.5"
            ]
          },
          "metadata": {
            "tags": []
          },
          "execution_count": 37
        }
      ]
    },
    {
      "cell_type": "markdown",
      "metadata": {
        "id": "Dp22V9Wc9FPC"
      },
      "source": [
        "Haz doble click __aquí__ para ver la solución.\n",
        "\n",
        "<!-- \n",
        "def div(a, b):\n",
        "    return(a/b)\n",
        "-->"
      ]
    },
    {
      "cell_type": "markdown",
      "metadata": {
        "id": "d8mUZDuI9FPD"
      },
      "source": [
        "<hr>"
      ]
    },
    {
      "cell_type": "markdown",
      "metadata": {
        "id": "Tcaw7yZM9FPD"
      },
      "source": [
        "Utiliza la función <code>con</code> en la siguiente pregunta:"
      ]
    },
    {
      "cell_type": "code",
      "metadata": {
        "id": "RTFXHbtv9FPD"
      },
      "source": [
        "# Utiliza la función con() en la siguiente pregunta:\n",
        "\n",
        "def con(a, b):\n",
        "    return(a + b)"
      ],
      "execution_count": 38,
      "outputs": []
    },
    {
      "cell_type": "markdown",
      "metadata": {
        "id": "c6iL1MKE9FPE"
      },
      "source": [
        "¿Podría ser usada la función <code>con</code> definida anteriormente ser usada para sumar números enteros o cadenas?"
      ]
    },
    {
      "cell_type": "code",
      "metadata": {
        "colab": {
          "base_uri": "https://localhost:8080/"
        },
        "id": "B89XChew9FPE",
        "outputId": "af24022c-b6dc-4d48-dab1-f12113170299"
      },
      "source": [
        "# Escribe abajo tu código y presiona Shift+Enter para ejecutarlo\n",
        "con(23,45)"
      ],
      "execution_count": 39,
      "outputs": [
        {
          "output_type": "execute_result",
          "data": {
            "text/plain": [
              "68"
            ]
          },
          "metadata": {
            "tags": []
          },
          "execution_count": 39
        }
      ]
    },
    {
      "cell_type": "markdown",
      "metadata": {
        "id": "a3leIWpX9FPF"
      },
      "source": [
        "Haz doble click __aquí__ para ver la solución.\n",
        "\n",
        "<!-- \n",
        "yes, for example: \n",
        "con(2, 2)\n",
        " -->"
      ]
    },
    {
      "cell_type": "markdown",
      "metadata": {
        "id": "I26gLb3s9FPF"
      },
      "source": [
        "<hr>"
      ]
    },
    {
      "cell_type": "markdown",
      "metadata": {
        "id": "5enbFzCp9FPI"
      },
      "source": [
        "¿Podría ser usada la función <code>con</code> definida anteriormente ser usada para concatenar una lista o tupla?"
      ]
    },
    {
      "cell_type": "code",
      "metadata": {
        "colab": {
          "base_uri": "https://localhost:8080/"
        },
        "id": "zPdO-I049FPJ",
        "outputId": "41cc8168-67a4-4076-f79a-9b94dc3ae014"
      },
      "source": [
        "# Escribe abajo tu código y presiona Shift+Enter para ejecutarlo\n",
        "con(['Hola',2], ['Antonio',3])"
      ],
      "execution_count": 40,
      "outputs": [
        {
          "output_type": "execute_result",
          "data": {
            "text/plain": [
              "['Hola', 2, 'Antonio', 3]"
            ]
          },
          "metadata": {
            "tags": []
          },
          "execution_count": 40
        }
      ]
    },
    {
      "cell_type": "markdown",
      "metadata": {
        "id": "D86Bylse9FPJ"
      },
      "source": [
        "Haz doble click __aquí__ para ver la solución.\n",
        "\n",
        "<!-- \n",
        "yes,for example: \n",
        "con(['a', 1], ['b', 1])\n",
        "-->"
      ]
    },
    {
      "cell_type": "markdown",
      "metadata": {
        "id": "_hWuUd3M9FPK"
      },
      "source": [
        "<hr>\n",
        "<h2>¡El último ejercicio!</h2>\n",
        "<p>Felicidades, has completado tu primera lección y practica de laboratorio en Python. Sin embargo, hay algo mas que debes saber. La comunidad en Ciencia de Datos te alienta a compartir tu trabajo. La mejor forma de hacerlo es a través de GitHub. Al compartir tus cuadernos en GitHub, además de construir una reputación entre la comunidad de los científicos de datos, también te ayudará en el proceso de encontrar un trabajo. Incluso si este fuera tu primer material de trabajo, nunca es tarde para fomentar buenos hábitos. Por favor lee y analiza <a href=\"https://cognitiveclass.ai/blog/data-scientists-stand-out-by-sharing-your-notebooks/\" target=\"_blank\">este artículo</a> para aprender a compartir tu trabajo.\n",
        "<hr>"
      ]
    },
    {
      "cell_type": "markdown",
      "metadata": {
        "id": "Ui-vqpcT9FPL"
      },
      "source": [
        "<h3>Acerca de los Autores:</h3>  \n",
        "<p><a href=\"https://www.linkedin.com/in/joseph-s-50398b136/\" target=\"_blank\">Joseph Santarcangelo</a> es un Científico de Datos en IBM, además posee un doctorado en Ingeniería Eléctrica. Su trabajo de investigación se centra en el uso de Aprendizaje Automático (Machine Learning), Procesamiento de Señales y Visión Artificial para determinar el impacto de los videos en el proceso cognitivo. Joseph trabaja en IBM desde la terminación de su doctorado.</p>"
      ]
    },
    {
      "cell_type": "markdown",
      "metadata": {
        "id": "SwxZ1nZ39FPL"
      },
      "source": [
        "Otros colaboradores: <a href=\"www.linkedin.com/in/jiahui-mavis-zhou-a4537814a\">Mavis Zhou</a>, <a href=\"https://www.linkedin.com/in/reevejamesd/\">James Reeve</a>"
      ]
    },
    {
      "cell_type": "markdown",
      "metadata": {
        "id": "bpIzdZLQ9FPL"
      },
      "source": [
        "<hr>"
      ]
    },
    {
      "cell_type": "markdown",
      "metadata": {
        "id": "AmgGOdnO9FPM"
      },
      "source": [
        "<p>Copyright &copy; 2018 IBM Developer Skills Network. This notebook and its source code are released under the terms of the <a href=\"https://cognitiveclass.ai/mit-license/\">MIT License</a>.</p>"
      ]
    }
  ]
}