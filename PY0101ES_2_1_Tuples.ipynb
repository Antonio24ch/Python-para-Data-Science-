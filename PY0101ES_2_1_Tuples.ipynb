{
  "nbformat": 4,
  "nbformat_minor": 0,
  "metadata": {
    "kernelspec": {
      "display_name": "Python",
      "language": "python",
      "name": "conda-env-python-py"
    },
    "language_info": {
      "codemirror_mode": {
        "name": "ipython",
        "version": 3
      },
      "file_extension": ".py",
      "mimetype": "text/x-python",
      "name": "python",
      "nbconvert_exporter": "python",
      "pygments_lexer": "ipython3",
      "version": "3.6.13"
    },
    "colab": {
      "name": "PY0101ES-2-1-Tuples.ipynb",
      "provenance": []
    }
  },
  "cells": [
    {
      "cell_type": "markdown",
      "metadata": {
        "id": "BsTVBM8QpqE3"
      },
      "source": [
        "<a href=\"https://cognitiveclass.ai/\">\n",
        "    <img src=\"https://s3-api.us-geo.objectstorage.softlayer.net/cf-courses-data/CognitiveClass/PY0101EN/Ad/CCLog.png\" width=\"200\" align=\"center\">\n",
        "</a>"
      ]
    },
    {
      "cell_type": "markdown",
      "metadata": {
        "id": "4_7-bc_5pqE4"
      },
      "source": [
        "<h1>Tuplas en Python</h1>"
      ]
    },
    {
      "cell_type": "markdown",
      "metadata": {
        "id": "LE79cnslpqE5"
      },
      "source": [
        "<p><strong>¡Bienvenido!</strong> En este cuaderno aprenderás sobre las tuplas en el Lenguaje de Programación Python. Al final de este laboratorio, conocerás lo básico sobre las operaciones con tuplas en Python, esto incluye la indexación, el slicing y la clasificación de las tuplas.</p> "
      ]
    },
    {
      "cell_type": "markdown",
      "metadata": {
        "id": "_fAt8E1_pqE6"
      },
      "source": [
        "<h2>Tabla de Contenido</h2>\n",
        "<div class=\"alert alert-block alert-info\" style=\"margin-top: 20px\">\n",
        "    <ul>\n",
        "        <li>\n",
        "            <a href=\"#dataset\">Acerca de los conjuntos de datos (Dataset)</a>\n",
        "        </li>\n",
        "        <li>\n",
        "            <a href=\"#tuple\">Tuplas</a>\n",
        "            <ul>\n",
        "                <li><a href=\"index\">Indexación</a></li>\n",
        "                <li><a href=\"slice\">Slicing (Sublistas)</a></li>\n",
        "                <li><a href=\"sort\">Ordenamiento</a></li>\n",
        "            </ul>\n",
        "        </li>\n",
        "        <li>\n",
        "            <a href=\"#escape\">Exámen sobre Tuplas</a>\n",
        "        </li>\n",
        "    </ul>\n",
        "    <p>\n",
        "        Tiempo Estimado: <strong>15 min</strong>\n",
        "    </p>\n",
        "</div>\n",
        "\n",
        "<hr>"
      ]
    },
    {
      "cell_type": "markdown",
      "metadata": {
        "id": "MZ32iMcXpqE7"
      },
      "source": [
        "<h2 id=\"dataset\">Acerca de los conjuntos de datos (Dataset)</h2>"
      ]
    },
    {
      "cell_type": "markdown",
      "metadata": {
        "id": "69DqiWBPpqE8"
      },
      "source": [
        "Imagina que obtienes de tus amigos algunas recomendaciones sobre discos de música y las compilas en una tabla con información específica de cada disco.\n",
        "\n",
        "La tabla tiene una fila para cada disco y algunas columnas:\n",
        "\n",
        "- **artist** - Nombre del artista\n",
        "- **album** - Nombre del disco\n",
        "- **released_year** - Año de estreno\n",
        "- **length_min_sec** - Duración del disco (horas, minutos,segundos)\n",
        "- **genre** - Género del disco\n",
        "- **music_recording_sales_millions** - Ventas registradas (en millones de USD) on [SONG://DATABASE](https://cocl.us/hZvV8)\n",
        "- **claimed_sales_millions** - Ventas reportadas (en millones de USD) on [SONG://DATABASE](https://cocl.us/hZvV8)\n",
        "- **date_released** - Fecha del estreno\n",
        "- **soundtrack** - Indica si el disco pertenece a la banda sonora de alguna película (Y) o (N)\n",
        "- **rating_of_friends** - Indica la calificación de tus amigos del 1 al 10\n",
        "<br>\n",
        "<br>\n",
        "\n",
        "El conjunto de datos se muestra a continuación:\n",
        "\n",
        "<font size=\"1\">\n",
        "<table font-size:xx-small style=\"width:100%\">\n",
        "  <tr>\n",
        "    <th>Artist</th>\n",
        "    <th>Album</th> \n",
        "    <th>Released</th>\n",
        "    <th>Length</th>\n",
        "    <th>Genre</th> \n",
        "    <th>Music recording sales (millions)</th>\n",
        "    <th>Claimed sales (millions)</th>\n",
        "    <th>Released</th>\n",
        "    <th>Soundtrack</th>\n",
        "    <th>Rating (friends)</th>\n",
        "  </tr>\n",
        "  <tr>\n",
        "    <td>Michael Jackson</td>\n",
        "    <td>Thriller</td> \n",
        "    <td>1982</td>\n",
        "    <td>00:42:19</td>\n",
        "    <td>Pop, rock, R&B</td>\n",
        "    <td>46</td>\n",
        "    <td>65</td>\n",
        "    <td>30-Nov-82</td>\n",
        "    <td></td>\n",
        "    <td>10.0</td>\n",
        "  </tr>\n",
        "  <tr>\n",
        "    <td>AC/DC</td>\n",
        "    <td>Back in Black</td> \n",
        "    <td>1980</td>\n",
        "    <td>00:42:11</td>\n",
        "    <td>Hard rock</td>\n",
        "    <td>26.1</td>\n",
        "    <td>50</td>\n",
        "    <td>25-Jul-80</td>\n",
        "    <td></td>\n",
        "    <td>8.5</td>\n",
        "  </tr>\n",
        "    <tr>\n",
        "    <td>Pink Floyd</td>\n",
        "    <td>The Dark Side of the Moon</td> \n",
        "    <td>1973</td>\n",
        "    <td>00:42:49</td>\n",
        "    <td>Progressive rock</td>\n",
        "    <td>24.2</td>\n",
        "    <td>45</td>\n",
        "    <td>01-Mar-73</td>\n",
        "    <td></td>\n",
        "    <td>9.5</td>\n",
        "  </tr>\n",
        "    <tr>\n",
        "    <td>Whitney Houston</td>\n",
        "    <td>The Bodyguard</td> \n",
        "    <td>1992</td>\n",
        "    <td>00:57:44</td>\n",
        "    <td>Soundtrack/R&B, soul, pop</td>\n",
        "    <td>26.1</td>\n",
        "    <td>50</td>\n",
        "    <td>25-Jul-80</td>\n",
        "    <td>Y</td>\n",
        "    <td>7.0</td>\n",
        "  </tr>\n",
        "    <tr>\n",
        "    <td>Meat Loaf</td>\n",
        "    <td>Bat Out of Hell</td> \n",
        "    <td>1977</td>\n",
        "    <td>00:46:33</td>\n",
        "    <td>Hard rock, progressive rock</td>\n",
        "    <td>20.6</td>\n",
        "    <td>43</td>\n",
        "    <td>21-Oct-77</td>\n",
        "    <td></td>\n",
        "    <td>7.0</td>\n",
        "  </tr>\n",
        "    <tr>\n",
        "    <td>Eagles</td>\n",
        "    <td>Their Greatest Hits (1971-1975)</td> \n",
        "    <td>1976</td>\n",
        "    <td>00:43:08</td>\n",
        "    <td>Rock, soft rock, folk rock</td>\n",
        "    <td>32.2</td>\n",
        "    <td>42</td>\n",
        "    <td>17-Feb-76</td>\n",
        "    <td></td>\n",
        "    <td>9.5</td>\n",
        "  </tr>\n",
        "    <tr>\n",
        "    <td>Bee Gees</td>\n",
        "    <td>Saturday Night Fever</td> \n",
        "    <td>1977</td>\n",
        "    <td>1:15:54</td>\n",
        "    <td>Disco</td>\n",
        "    <td>20.6</td>\n",
        "    <td>40</td>\n",
        "    <td>15-Nov-77</td>\n",
        "    <td>Y</td>\n",
        "    <td>9.0</td>\n",
        "  </tr>\n",
        "    <tr>\n",
        "    <td>Fleetwood Mac</td>\n",
        "    <td>Rumours</td> \n",
        "    <td>1977</td>\n",
        "    <td>00:40:01</td>\n",
        "    <td>Soft rock</td>\n",
        "    <td>27.9</td>\n",
        "    <td>40</td>\n",
        "    <td>04-Feb-77</td>\n",
        "    <td></td>\n",
        "    <td>9.5</td>\n",
        "  </tr>\n",
        "</table></font>"
      ]
    },
    {
      "cell_type": "markdown",
      "metadata": {
        "id": "p9nEW2-1pqE_"
      },
      "source": [
        "<hr>"
      ]
    },
    {
      "cell_type": "markdown",
      "metadata": {
        "id": "9an-zbN8pqFA"
      },
      "source": [
        "<h2 id=\"tuple\">Tuplas</h2>"
      ]
    },
    {
      "cell_type": "markdown",
      "metadata": {
        "id": "EGowRwELpqFH"
      },
      "source": [
        "En Python existen diferentes tipos de datos: cadenas, números enteros o decimales (float), etc. Todos estos tipos de datos pueden ser almacenados en una tupla como se indica a continuación:"
      ]
    },
    {
      "cell_type": "markdown",
      "metadata": {
        "id": "y4T4luzCpqFJ"
      },
      "source": [
        "<img src=\"https://s3-api.us-geo.objectstorage.softlayer.net/cf-courses-data/CognitiveClass/PY0101EN/Chapter%202/Images/TuplesType.png\" width=\"750\" align=\"center\" />"
      ]
    },
    {
      "cell_type": "markdown",
      "metadata": {
        "id": "_lrfiQM1pqFM"
      },
      "source": [
        "Vamos a crear tu primera tupla compuesta de: una cadena, un entero y un número decimal."
      ]
    },
    {
      "cell_type": "code",
      "metadata": {
        "jupyter": {
          "outputs_hidden": false
        },
        "id": "MgCW0hqapqFM",
        "outputId": "2763202b-02c5-483d-d7cf-bbb4b953ad5f"
      },
      "source": [
        "# Crear tu primera tupla\n",
        "\n",
        "tuple1 = (\"disco\",10,1.2 )\n",
        "tuple1"
      ],
      "execution_count": null,
      "outputs": [
        {
          "output_type": "execute_result",
          "data": {
            "text/plain": [
              "('disco', 10, 1.2)"
            ]
          },
          "metadata": {
            "tags": []
          },
          "execution_count": 1
        }
      ]
    },
    {
      "cell_type": "markdown",
      "metadata": {
        "id": "-c4KLWajpqFO"
      },
      "source": [
        "El tipo de dato almacenado en la variable es **tuple**."
      ]
    },
    {
      "cell_type": "code",
      "metadata": {
        "jupyter": {
          "outputs_hidden": false
        },
        "id": "Zcsgugi5pqFP",
        "outputId": "934135c3-d7b2-41cb-8247-82185ed48ad3"
      },
      "source": [
        "# Imprime el tipo de dato de la tupla\n",
        "\n",
        "type(tuple1)"
      ],
      "execution_count": null,
      "outputs": [
        {
          "output_type": "execute_result",
          "data": {
            "text/plain": [
              "tuple"
            ]
          },
          "metadata": {
            "tags": []
          },
          "execution_count": 3
        }
      ]
    },
    {
      "cell_type": "markdown",
      "metadata": {
        "id": "KF7izPmnpqFQ"
      },
      "source": [
        "<h3 id=\"index\">Indexación</h3>"
      ]
    },
    {
      "cell_type": "markdown",
      "metadata": {
        "id": "1ijGffm6pqFQ"
      },
      "source": [
        "Cada elemento dentro de la tupla puede ser accedido a través de su número de índice. La siguiente tabla representa la relación entre el número de índice y los elementos dentro de la tupla. Se puede obtener cada elemento escribiendo el nombre de la tupla seguido de corchetes conteniendo el número del índice: "
      ]
    },
    {
      "cell_type": "markdown",
      "metadata": {
        "id": "i60H-0bNpqFS"
      },
      "source": [
        "<img src=\"https://s3-api.us-geo.objectstorage.softlayer.net/cf-courses-data/CognitiveClass/PY0101EN/Chapter%202/Images/TuplesIndex.gif\" width=\"750\" align=\"center\">"
      ]
    },
    {
      "cell_type": "markdown",
      "metadata": {
        "id": "xNpfKKNqpqFU"
      },
      "source": [
        "Podemos imprimir cada uno de los valores de la tupla:"
      ]
    },
    {
      "cell_type": "code",
      "metadata": {
        "jupyter": {
          "outputs_hidden": false
        },
        "id": "7CxbSj07pqFX",
        "outputId": "6721b3c0-9307-4911-f085-dbb33c8625cd"
      },
      "source": [
        "# Imprimir la variable en cada índice\n",
        "\n",
        "print(tuple1[0])\n",
        "print(tuple1[1])\n",
        "print(tuple1[2])"
      ],
      "execution_count": null,
      "outputs": [
        {
          "output_type": "stream",
          "text": [
            "disco\n",
            "10\n",
            "1.2\n"
          ],
          "name": "stdout"
        }
      ]
    },
    {
      "cell_type": "markdown",
      "metadata": {
        "id": "TrSlG5P6pqFY"
      },
      "source": [
        "Podemos imprimir el **tipo** de cada uno de los valores de la tupla:\n"
      ]
    },
    {
      "cell_type": "code",
      "metadata": {
        "jupyter": {
          "outputs_hidden": false
        },
        "id": "xRRE1Z_PpqFZ",
        "outputId": "410595c5-b75e-4151-d667-16545b420235"
      },
      "source": [
        "# Imprimir el tipo de valor de cada uno de los índices\n",
        "\n",
        "print(type(tuple1[0]))\n",
        "print(type(tuple1[1]))\n",
        "print(type(tuple1[2]))"
      ],
      "execution_count": null,
      "outputs": [
        {
          "output_type": "stream",
          "text": [
            "<class 'str'>\n",
            "<class 'int'>\n",
            "<class 'float'>\n"
          ],
          "name": "stdout"
        }
      ]
    },
    {
      "cell_type": "markdown",
      "metadata": {
        "id": "LtXenxmipqFa"
      },
      "source": [
        "También podemos usar números de índice negativos. Vamos a usar la misma tabla de arriba con su correspondiente valor negativo:"
      ]
    },
    {
      "cell_type": "markdown",
      "metadata": {
        "id": "lnsTwoZCpqFa"
      },
      "source": [
        "<img src=\"https://s3-api.us-geo.objectstorage.softlayer.net/cf-courses-data/CognitiveClass/PY0101EN/Chapter%202/Images/TuplesNeg.png\" width=\"750\" align=\"center\">"
      ]
    },
    {
      "cell_type": "markdown",
      "metadata": {
        "id": "nexi2qM0pqFb"
      },
      "source": [
        "Obtenemos el ultimo elemento de la siguiente forma (en esta ocasión no usaremos la sentencia print para mostrar los valores en pantalla):"
      ]
    },
    {
      "cell_type": "code",
      "metadata": {
        "jupyter": {
          "outputs_hidden": false
        },
        "id": "iz82j26KpqFb",
        "outputId": "1aaa4e82-2ce2-4013-b804-e70268ba46aa"
      },
      "source": [
        "# Usar un valor negativo en el índice para obtener el valor del último elemento\n",
        "\n",
        "tuple1[-1]"
      ],
      "execution_count": null,
      "outputs": [
        {
          "output_type": "execute_result",
          "data": {
            "text/plain": [
              "1.2"
            ]
          },
          "metadata": {
            "tags": []
          },
          "execution_count": 4
        }
      ]
    },
    {
      "cell_type": "markdown",
      "metadata": {
        "id": "_uZVy7twpqFc"
      },
      "source": [
        "Podemos mostrar en pantalla los siguientes dos elementos de la siguiente forma:"
      ]
    },
    {
      "cell_type": "code",
      "metadata": {
        "jupyter": {
          "outputs_hidden": false
        },
        "id": "ghuziJJgpqFc",
        "outputId": "d8361579-13ea-4d1a-804b-e0f40cc12258"
      },
      "source": [
        "# Usar un valor negativo en el índice para obtener el valor del penúltimo elemento\n",
        "\n",
        "tuple1[-2]"
      ],
      "execution_count": null,
      "outputs": [
        {
          "output_type": "execute_result",
          "data": {
            "text/plain": [
              "10"
            ]
          },
          "metadata": {
            "tags": []
          },
          "execution_count": 5
        }
      ]
    },
    {
      "cell_type": "code",
      "metadata": {
        "jupyter": {
          "outputs_hidden": false
        },
        "id": "LL9Ci-LHpqFd",
        "outputId": "f33c0258-6393-455a-b9e7-9df469f65b0b"
      },
      "source": [
        "# Usar un valor negativo en el índice para obtener el valor del antepenúltimo elemento\n",
        "\n",
        "tuple1[-3]"
      ],
      "execution_count": null,
      "outputs": [
        {
          "output_type": "execute_result",
          "data": {
            "text/plain": [
              "'disco'"
            ]
          },
          "metadata": {
            "tags": []
          },
          "execution_count": 6
        }
      ]
    },
    {
      "cell_type": "markdown",
      "metadata": {
        "id": "AjOK5lNYpqFe"
      },
      "source": [
        "<h3 id=\"concate\">Concatenación de Tuplas</h3>"
      ]
    },
    {
      "cell_type": "markdown",
      "metadata": {
        "id": "ljalbnBhpqFe"
      },
      "source": [
        "Podemos concatenar o combinar tuplas utilizando el signo **+**:"
      ]
    },
    {
      "cell_type": "code",
      "metadata": {
        "jupyter": {
          "outputs_hidden": false
        },
        "id": "Skd9o-_3pqFf",
        "outputId": "e101708f-0638-47c9-d9f0-1e1221fb5ac4"
      },
      "source": [
        "# Concatenar dos tuplas\n",
        "\n",
        "tuple2 = tuple1 + (\"hard rock\", 10)\n",
        "tuple2"
      ],
      "execution_count": null,
      "outputs": [
        {
          "output_type": "execute_result",
          "data": {
            "text/plain": [
              "('disco', 10, 1.2, 'hard rock', 10)"
            ]
          },
          "metadata": {
            "tags": []
          },
          "execution_count": 7
        }
      ]
    },
    {
      "cell_type": "markdown",
      "metadata": {
        "id": "EdpPZGb7pqFf"
      },
      "source": [
        "Podemos subdividir (slice) una tupla y obtener múltiples valores como se muestra en la siguiente imagen:"
      ]
    },
    {
      "cell_type": "markdown",
      "metadata": {
        "id": "K5hMKNAVpqFg"
      },
      "source": [
        "<img src=\"https://s3-api.us-geo.objectstorage.softlayer.net/cf-courses-data/CognitiveClass/PY0101EN/Chapter%202/Images/TuplesSlice.gif\" width=\"750\" align=\"center\">"
      ]
    },
    {
      "cell_type": "markdown",
      "metadata": {
        "id": "NiENwcmqpqFg"
      },
      "source": [
        "<h3 id=\"slice\">Slicing (Sublistas)</h3>"
      ]
    },
    {
      "cell_type": "markdown",
      "metadata": {
        "id": "Xm6k0WfEpqFg"
      },
      "source": [
        "Podemos aplicar el slice en las tuplas, obteniendo su vez nuevas tuplas con sus elementos correspondientes:"
      ]
    },
    {
      "cell_type": "code",
      "metadata": {
        "jupyter": {
          "outputs_hidden": false
        },
        "id": "WiOyalFxpqFh",
        "outputId": "49bff3e7-27b4-4379-a7dc-3df26ec1a3f9"
      },
      "source": [
        "# Sublista(slice) desde el índice 0 al 2\n",
        "\n",
        "tuple2[0:3]"
      ],
      "execution_count": null,
      "outputs": [
        {
          "output_type": "execute_result",
          "data": {
            "text/plain": [
              "('disco', 10, 1.2)"
            ]
          },
          "metadata": {
            "tags": []
          },
          "execution_count": 8
        }
      ]
    },
    {
      "cell_type": "markdown",
      "metadata": {
        "id": "hFGqB8XipqFi"
      },
      "source": [
        "Podemos obtener los últimos dos elementos de una tupla:"
      ]
    },
    {
      "cell_type": "code",
      "metadata": {
        "jupyter": {
          "outputs_hidden": false
        },
        "id": "0w5D9adJpqFi",
        "outputId": "624f8951-c11a-4c04-c255-8d4875d82bd8"
      },
      "source": [
        "# Sublista(slice) desde el índice 3 al 4\n",
        "\n",
        "tuple2[3:5]"
      ],
      "execution_count": null,
      "outputs": [
        {
          "output_type": "execute_result",
          "data": {
            "text/plain": [
              "('hard rock', 10)"
            ]
          },
          "metadata": {
            "tags": []
          },
          "execution_count": 9
        }
      ]
    },
    {
      "cell_type": "markdown",
      "metadata": {
        "id": "At9PGvrdpqFj"
      },
      "source": [
        "Podemos obtener la longitud de una tupla usando el comando length: "
      ]
    },
    {
      "cell_type": "code",
      "metadata": {
        "jupyter": {
          "outputs_hidden": false
        },
        "id": "Ru5QlcWGpqFk",
        "outputId": "f0eec2f9-c4b8-4574-8a1c-e764ee0a83aa"
      },
      "source": [
        "# Obtener la longitud de la tupla\n",
        "\n",
        "len(tuple2)"
      ],
      "execution_count": null,
      "outputs": [
        {
          "output_type": "execute_result",
          "data": {
            "text/plain": [
              "5"
            ]
          },
          "metadata": {
            "tags": []
          },
          "execution_count": 10
        }
      ]
    },
    {
      "cell_type": "markdown",
      "metadata": {
        "id": "_40IJKpgpqFk"
      },
      "source": [
        "La siguiente imagen muestra el número de elementos:"
      ]
    },
    {
      "cell_type": "markdown",
      "metadata": {
        "id": "Q5dkESoUpqFl"
      },
      "source": [
        "<img src=\"https://s3-api.us-geo.objectstorage.softlayer.net/cf-courses-data/CognitiveClass/PY0101EN/Chapter%202/Images/TuplesElement.png\" width=\"750\" align=\"center\">"
      ]
    },
    {
      "cell_type": "markdown",
      "metadata": {
        "id": "i0l-8njupqFl"
      },
      "source": [
        "<h3 id=\"sort\">Ordenamiento</h3>"
      ]
    },
    {
      "cell_type": "markdown",
      "metadata": {
        "id": "JK6ilxMppqFl"
      },
      "source": [
        " Considérese la siguiente tupla:"
      ]
    },
    {
      "cell_type": "code",
      "metadata": {
        "tags": [],
        "id": "ampGkSqHpqFp"
      },
      "source": [
        "# Tupla de ejemplo\n",
        "\n",
        "Ratings = (0, 9, 6, 5, 10, 8, 9, 6, 2)"
      ],
      "execution_count": null,
      "outputs": []
    },
    {
      "cell_type": "markdown",
      "metadata": {
        "id": "JjSaDMZ1pqFq"
      },
      "source": [
        "Podemos ordenar los valores en la tupla y guardarlos en una nueva: "
      ]
    },
    {
      "cell_type": "code",
      "metadata": {
        "jupyter": {
          "outputs_hidden": false
        },
        "id": "AkDXJk7fpqFr",
        "outputId": "9b78a51e-187e-4d99-9e90-a4cfbadad0c3"
      },
      "source": [
        "# Ordenar la tupla\n",
        "\n",
        "RatingsSorted = sorted(Ratings)\n",
        "RatingsSorted"
      ],
      "execution_count": null,
      "outputs": [
        {
          "output_type": "execute_result",
          "data": {
            "text/plain": [
              "[0, 2, 5, 6, 6, 8, 9, 9, 10]"
            ]
          },
          "metadata": {
            "tags": []
          },
          "execution_count": 12
        }
      ]
    },
    {
      "cell_type": "markdown",
      "metadata": {
        "id": "rH6EPLSZpqFt"
      },
      "source": [
        "<h3 id=\"nest\">Tupla Anidada</h3>"
      ]
    },
    {
      "cell_type": "markdown",
      "metadata": {
        "id": "4AQY5STlpqFu"
      },
      "source": [
        "Una tupla puede contener a otras tuplas, adi como otro tipo de datos complejos. Este proceso es conocido como “anidar”. Considere la siguiente tupla con algunos elementos:"
      ]
    },
    {
      "cell_type": "code",
      "metadata": {
        "tags": [],
        "id": "kAPIpa5gpqFv"
      },
      "source": [
        "# Crear una tupla anidada\n",
        "\n",
        "NestedT =(1, 2, (\"pop\", \"rock\") ,(3,4),(\"disco\",(1,2)))"
      ],
      "execution_count": null,
      "outputs": []
    },
    {
      "cell_type": "markdown",
      "metadata": {
        "id": "jzTnGxi0pqFv"
      },
      "source": [
        "El valor de cada elemento en la tupla incluyendo a otras tuplas pueden ser obtenido a través de un numero de índice como se muestra en la imagen:"
      ]
    },
    {
      "cell_type": "markdown",
      "metadata": {
        "id": "GkAY94X6pqFw"
      },
      "source": [
        "<img src=\"https://s3-api.us-geo.objectstorage.softlayer.net/cf-courses-data/CognitiveClass/PY0101EN/Chapter%202/Images/TuplesNestOne.png\" width=\"750\" align=\"center\">"
      ]
    },
    {
      "cell_type": "code",
      "metadata": {
        "jupyter": {
          "outputs_hidden": false
        },
        "id": "ta04ucOHpqFw",
        "outputId": "9dc84c8d-ea05-4938-d0b4-0096a149162b"
      },
      "source": [
        "# Imprimir el elemento de cada índice\n",
        "\n",
        "print(\"Element 0 of Tuple: \", NestedT[0])\n",
        "print(\"Element 1 of Tuple: \", NestedT[1])\n",
        "print(\"Element 2 of Tuple: \", NestedT[2])\n",
        "print(\"Element 3 of Tuple: \", NestedT[3])\n",
        "print(\"Element 4 of Tuple: \", NestedT[4])"
      ],
      "execution_count": null,
      "outputs": [
        {
          "output_type": "stream",
          "text": [
            "Element 0 of Tuple:  1\n",
            "Element 1 of Tuple:  2\n",
            "Element 2 of Tuple:  ('pop', 'rock')\n",
            "Element 3 of Tuple:  (3, 4)\n",
            "Element 4 of Tuple:  ('disco', (1, 2))\n"
          ],
          "name": "stdout"
        }
      ]
    },
    {
      "cell_type": "markdown",
      "metadata": {
        "id": "pTthv1EIpqFx"
      },
      "source": [
        "Podemos usar un segundo índice para acceder otras tuplas como se muestra en la siguiente imagen:"
      ]
    },
    {
      "cell_type": "markdown",
      "metadata": {
        "id": "xdaJQ4lxpqFx"
      },
      "source": [
        "<img src=\"https://s3-api.us-geo.objectstorage.softlayer.net/cf-courses-data/CognitiveClass/PY0101EN/Chapter%202/Images/TuplesNestTwo.png\" width=\"750\" align=\"center\">"
      ]
    },
    {
      "cell_type": "markdown",
      "metadata": {
        "id": "JB2Uusp3pqFy"
      },
      "source": [
        " Podemos acceder a las tuplas anidadas: "
      ]
    },
    {
      "cell_type": "code",
      "metadata": {
        "jupyter": {
          "outputs_hidden": false
        },
        "id": "i9rZjYqfpqFy",
        "outputId": "64b5aea8-3969-4a52-96fd-e6c08772e134"
      },
      "source": [
        "# Imprimir el elemento de cada índice, incluyendo los índices anidados\n",
        "\n",
        "print(\"Element 2, 0 of Tuple: \",   NestedT[2][0])\n",
        "print(\"Element 2, 1 of Tuple: \",   NestedT[2][1])\n",
        "print(\"Element 3, 0 of Tuple: \",   NestedT[3][0])\n",
        "print(\"Element 3, 1 of Tuple: \",   NestedT[3][1])\n",
        "print(\"Element 4, 0 of Tuple: \",   NestedT[4][0])\n",
        "print(\"Element 4, 1 of Tuple: \",   NestedT[4][1])"
      ],
      "execution_count": null,
      "outputs": [
        {
          "output_type": "stream",
          "text": [
            "Element 2, 0 of Tuple:  pop\n",
            "Element 2, 1 of Tuple:  rock\n",
            "Element 3, 0 of Tuple:  3\n",
            "Element 3, 1 of Tuple:  4\n",
            "Element 4, 0 of Tuple:  disco\n",
            "Element 4, 1 of Tuple:  (1, 2)\n"
          ],
          "name": "stdout"
        }
      ]
    },
    {
      "cell_type": "markdown",
      "metadata": {
        "id": "vC8Gala_pqFz"
      },
      "source": [
        "Podemos acceder a las cadenas de las segundas tuplas anidadas usando un tercer número de índice:"
      ]
    },
    {
      "cell_type": "code",
      "metadata": {
        "jupyter": {
          "outputs_hidden": false
        },
        "id": "4lr39k9dpqFz",
        "outputId": "d977e39d-5f38-4c5f-8802-b68131cbc8a5"
      },
      "source": [
        "# Imprimir el primer elemento en las segundas tuplas anidadas\n",
        "\n",
        "NestedT[2][1][0]"
      ],
      "execution_count": null,
      "outputs": [
        {
          "output_type": "execute_result",
          "data": {
            "text/plain": [
              "'r'"
            ]
          },
          "metadata": {
            "tags": []
          },
          "execution_count": 16
        }
      ]
    },
    {
      "cell_type": "code",
      "metadata": {
        "jupyter": {
          "outputs_hidden": false
        },
        "id": "1H16fNb6pqF0",
        "outputId": "8cd797d2-630b-407f-f4fb-f9650376cfb6"
      },
      "source": [
        "# Imprimir el segundo elemento en las segundas tuplas anidadas\n",
        "\n",
        "NestedT[2][1][1]"
      ],
      "execution_count": null,
      "outputs": [
        {
          "output_type": "execute_result",
          "data": {
            "text/plain": [
              "'o'"
            ]
          },
          "metadata": {
            "tags": []
          },
          "execution_count": 17
        }
      ]
    },
    {
      "cell_type": "markdown",
      "metadata": {
        "id": "SHZ1bz_BpqF1"
      },
      "source": [
        "Podemos usar una estructura de árbol para visualizar el proceso. Cada índice nuevo corresponde a un nivel mas profundo del árbol:"
      ]
    },
    {
      "cell_type": "markdown",
      "metadata": {
        "id": "85dkD89YpqF1"
      },
      "source": [
        "<img src=\"https://s3-api.us-geo.objectstorage.softlayer.net/cf-courses-data/CognitiveClass/PY0101EN/Chapter%202/Images/TuplesNestThree.gif\" width=\"750\" align=\"center\">"
      ]
    },
    {
      "cell_type": "markdown",
      "metadata": {
        "id": "jG52tFQ-pqF2"
      },
      "source": [
        "De igual forma, podemos acceder a elementos anidados en niveles mas bajos dentro del árbol utilizando un cuarto índice: "
      ]
    },
    {
      "cell_type": "code",
      "metadata": {
        "jupyter": {
          "outputs_hidden": false
        },
        "id": "zwQbMxMFpqF3",
        "outputId": "bf3dd9d6-612f-4efd-82fc-755c3a06462b"
      },
      "source": [
        "# Imprimir el primer elemento en las segundas tuplas anidadas\n",
        "\n",
        "NestedT[4][1][0]"
      ],
      "execution_count": null,
      "outputs": [
        {
          "output_type": "execute_result",
          "data": {
            "text/plain": [
              "1"
            ]
          },
          "metadata": {
            "tags": []
          },
          "execution_count": 18
        }
      ]
    },
    {
      "cell_type": "code",
      "metadata": {
        "jupyter": {
          "outputs_hidden": false
        },
        "id": "h5jcatRipqF6",
        "outputId": "3c8b8ff7-c889-4a91-ed16-7096c8fe1d54"
      },
      "source": [
        "# Imprimir el segundo elemento en las segundas tuplas anidadas\n",
        "\n",
        "NestedT[4][1][1]"
      ],
      "execution_count": null,
      "outputs": [
        {
          "output_type": "execute_result",
          "data": {
            "text/plain": [
              "2"
            ]
          },
          "metadata": {
            "tags": []
          },
          "execution_count": 19
        }
      ]
    },
    {
      "cell_type": "markdown",
      "metadata": {
        "id": "R1QnAzmxpqF7"
      },
      "source": [
        "La siguiente figura muestra la relación entre la estructura de árbol y el elemento <code>NestedT[4][1][1]</code>:"
      ]
    },
    {
      "cell_type": "markdown",
      "metadata": {
        "id": "P90HRvdgpqF7"
      },
      "source": [
        "<img src=\"https://s3-api.us-geo.objectstorage.softlayer.net/cf-courses-data/CognitiveClass/PY0101EN/Chapter%202/Images/TuplesNestFour.gif\" width=\"750\" align=\"center\">"
      ]
    },
    {
      "cell_type": "markdown",
      "metadata": {
        "id": "mzBdFMfIpqF8"
      },
      "source": [
        "<h2 id=\"quiz\">Exámen sobre Tuplas</h2>"
      ]
    },
    {
      "cell_type": "markdown",
      "metadata": {
        "id": "w88ZEHo4pqF8"
      },
      "source": [
        "Considérese la siguiente tupla:"
      ]
    },
    {
      "cell_type": "code",
      "metadata": {
        "jupyter": {
          "outputs_hidden": false
        },
        "id": "op0LrRDIpqF8",
        "outputId": "779ccc66-bdcf-4e3f-e9dd-e9200e10660f"
      },
      "source": [
        "# Tupla de ejemplo\n",
        "\n",
        "genres_tuple = (\"pop\", \"rock\", \"soul\", \"hard rock\", \"soft rock\", \\\n",
        "                \"R&B\", \"progressive rock\", \"disco\") \n",
        "genres_tuple"
      ],
      "execution_count": null,
      "outputs": [
        {
          "output_type": "execute_result",
          "data": {
            "text/plain": [
              "('pop',\n",
              " 'rock',\n",
              " 'soul',\n",
              " 'hard rock',\n",
              " 'soft rock',\n",
              " 'R&B',\n",
              " 'progressive rock',\n",
              " 'disco')"
            ]
          },
          "metadata": {
            "tags": []
          },
          "execution_count": 20
        }
      ]
    },
    {
      "cell_type": "markdown",
      "metadata": {
        "id": "e2xNKcpGpqF9"
      },
      "source": [
        "Encontrar la longitud de la tupla, <code>genres_tuple</code>:"
      ]
    },
    {
      "cell_type": "code",
      "metadata": {
        "jupyter": {
          "outputs_hidden": false
        },
        "id": "IqIbTix_pqF-",
        "outputId": "14aad933-b4f1-436e-811f-cb10cf49f9d0"
      },
      "source": [
        "# Escribe abajo tu código y presiona Shift+Enter para ejecutarlo\n",
        "len(genres_tuple)"
      ],
      "execution_count": null,
      "outputs": [
        {
          "output_type": "execute_result",
          "data": {
            "text/plain": [
              "8"
            ]
          },
          "metadata": {
            "tags": []
          },
          "execution_count": 21
        }
      ]
    },
    {
      "cell_type": "markdown",
      "metadata": {
        "id": "jiYncId5pqF_"
      },
      "source": [
        "<img src=\"https://s3-api.us-geo.objectstorage.softlayer.net/cf-courses-data/CognitiveClass/PY0101EN/Chapter%202/Images/TuplesQuiz.png\" width=\"1100\" align=\"center\">"
      ]
    },
    {
      "cell_type": "markdown",
      "metadata": {
        "id": "p4jt0zwQpqF_"
      },
      "source": [
        "Haz doble clic __aquí__ para ver la solución.\n",
        "\n",
        "<!-- Your answer is below:\n",
        "len(genres_tuple)\n",
        "-->"
      ]
    },
    {
      "cell_type": "markdown",
      "metadata": {
        "id": "km4kflfIpqGA"
      },
      "source": [
        "Accede al elemento en el índice 3:"
      ]
    },
    {
      "cell_type": "code",
      "metadata": {
        "jupyter": {
          "outputs_hidden": false
        },
        "id": "HvILwtRbpqGA",
        "outputId": "547335ae-a259-42ed-8ed1-a5eae5632ca7"
      },
      "source": [
        "# Escribe abajo tu código y presiona Shift+Enter para ejecutarlo\n",
        "genres_tuple[3]"
      ],
      "execution_count": null,
      "outputs": [
        {
          "output_type": "execute_result",
          "data": {
            "text/plain": [
              "'hard rock'"
            ]
          },
          "metadata": {
            "tags": []
          },
          "execution_count": 23
        }
      ]
    },
    {
      "cell_type": "markdown",
      "metadata": {
        "id": "dIMdFjXmpqGB"
      },
      "source": [
        "Haz doble clic __aquí__ para ver la solución.\n",
        "\n",
        "<!-- Your answer is below:\n",
        "genres_tuple[3]\n",
        "-->"
      ]
    },
    {
      "cell_type": "markdown",
      "metadata": {
        "id": "AKW-TvuGpqGC"
      },
      "source": [
        "Utiliza el slicing para obtener los índices 3, 4 y 5:"
      ]
    },
    {
      "cell_type": "code",
      "metadata": {
        "jupyter": {
          "outputs_hidden": false
        },
        "id": "HGOuqUMSpqGD",
        "outputId": "2e54f3b2-dbb5-4a00-a55b-d05fcbefe5ff"
      },
      "source": [
        "# Escribe abajo tu código y presiona Shift+Enter para ejecutarlo\n",
        "genres_tuple[3:6]"
      ],
      "execution_count": null,
      "outputs": [
        {
          "output_type": "execute_result",
          "data": {
            "text/plain": [
              "('hard rock', 'soft rock', 'R&B')"
            ]
          },
          "metadata": {
            "tags": []
          },
          "execution_count": 25
        }
      ]
    },
    {
      "cell_type": "markdown",
      "metadata": {
        "id": "6sj0V3UwpqGE"
      },
      "source": [
        "Haz doble clic __aquí__ para ver la solución.\n",
        "\n",
        "<!-- Your answer is below:\n",
        "genres_tuple[3:6]\n",
        "-->"
      ]
    },
    {
      "cell_type": "markdown",
      "metadata": {
        "id": "3Qa6RNbLpqGF"
      },
      "source": [
        "Encuentra los primeros dos elementos de la tupla <code>genres_tuple</code>:"
      ]
    },
    {
      "cell_type": "code",
      "metadata": {
        "jupyter": {
          "outputs_hidden": false
        },
        "id": "G5rOATtqpqGG",
        "outputId": "307f2386-7979-43a2-be36-2e43f6d69192"
      },
      "source": [
        "# Escribe abajo tu código y presiona Shift+Enter para ejecutarlo\n",
        "genres_tuple[:2]"
      ],
      "execution_count": null,
      "outputs": [
        {
          "output_type": "execute_result",
          "data": {
            "text/plain": [
              "('pop', 'rock')"
            ]
          },
          "metadata": {
            "tags": []
          },
          "execution_count": 26
        }
      ]
    },
    {
      "cell_type": "markdown",
      "metadata": {
        "id": "6YPdKI9FpqGH"
      },
      "source": [
        "Haz doble clic __aquí__ para ver la solución.\n",
        "\n",
        "<!-- Your answer is below:\n",
        "genres_tuple[0:2]\n",
        "-->"
      ]
    },
    {
      "cell_type": "markdown",
      "metadata": {
        "id": "85zPnZZFpqGM"
      },
      "source": [
        "Encuentra el primer índice de <code>\"disco\"</code>:"
      ]
    },
    {
      "cell_type": "code",
      "metadata": {
        "jupyter": {
          "outputs_hidden": false
        },
        "id": "FDlftB3bpqGN",
        "outputId": "8e3041f8-6bc7-4a78-c8af-8523ba8fdced"
      },
      "source": [
        "# Escribe abajo tu código y presiona Shift+Enter para ejecutarlo\n",
        "genres_tuple.index('disco')"
      ],
      "execution_count": null,
      "outputs": [
        {
          "output_type": "execute_result",
          "data": {
            "text/plain": [
              "7"
            ]
          },
          "metadata": {
            "tags": []
          },
          "execution_count": 28
        }
      ]
    },
    {
      "cell_type": "markdown",
      "metadata": {
        "id": "FG54tlPcpqGN"
      },
      "source": [
        "Haz doble clic __aquí__ para ver la solución.\n",
        "\n",
        "<!-- Your answer is below:\n",
        "genres_tuple.index(\"disco\")\n",
        "-->"
      ]
    },
    {
      "cell_type": "markdown",
      "metadata": {
        "id": "HRWNUABWpqGO"
      },
      "source": [
        "Genera una lista ordenada desde la tupla <code>C_tuple=(-5, 1, -3)</code>:"
      ]
    },
    {
      "cell_type": "code",
      "metadata": {
        "jupyter": {
          "outputs_hidden": false
        },
        "id": "zMGzlsN6pqGO"
      },
      "source": [
        "# Escribe abajo tu código y presiona Shift+Enter para ejecutarlo\n",
        "C_tuple=(-5,1,-3)\n",
        "C_tuple_sorted = sorted(C_tuple)\n",
        "C_"
      ],
      "execution_count": null,
      "outputs": []
    },
    {
      "cell_type": "markdown",
      "metadata": {
        "id": "-jE6fUcIpqGP"
      },
      "source": [
        "Haz doble clic __aquí__ para ver la solución.\n",
        "\n",
        "<!-- Your answer is below:\n",
        "C_tuple = (-5, 1, -3)\n",
        "C_list = sorted(C_tuple)\n",
        "C_list\n",
        "-->"
      ]
    },
    {
      "cell_type": "markdown",
      "metadata": {
        "id": "liUoLUcSpqGP"
      },
      "source": [
        "<hr>\n",
        "<h2>¡Un último ejercicio!</h2>\n",
        "<p>Felicidades, has completado tu primera lección y practica de laboratorio en Python. Sin embargo, hay algo mas que debes saber. La comunidad en Ciencia de Datos te alienta a compartir tu trabajo. La mejor forma de hacerlo es a través de GitHub. Al compartir tus cuadernos en GitHub, además de construir una reputación entre la comunidad de los científicos de datos, también te ayudará en el proceso de encontrar un trabajo. Incluso si este fuera tu primer material de trabajo, nunca es tarde para fomentar buenos hábitos. Por favor lee y analiza <a href=\"https://cognitiveclass.ai/blog/data-scientists-stand-out-by-sharing-your-notebooks/\" target=\"_blank\">este artículo</a> para aprender a compartir tu trabajo.\n",
        "<hr>"
      ]
    },
    {
      "cell_type": "markdown",
      "metadata": {
        "id": "qLPGmAiZpqGQ"
      },
      "source": [
        "<h3>Acerca de los Autores:</h3>  \n",
        "<p><a href=\"https://www.linkedin.com/in/joseph-s-50398b136/\" target=\"_blank\">Joseph Santarcangelo</a> es un Científico de Datos en IBM, además posee un doctorado en Ingeniería Eléctrica. Su trabajo de investigación se centra en el uso de Aprendizaje Automático (Machine Learning), Procesamiento de Señales y Visión Artificial para determinar el impacto de los videos en el proceso cognitivo. Joseph trabaja en IBM desde la terminación de su doctorado.</p>"
      ]
    },
    {
      "cell_type": "markdown",
      "metadata": {
        "id": "MgK2KGk8pqGc"
      },
      "source": [
        "Otros colaboradores: <a href=\"www.linkedin.com/in/jiahui-mavis-zhou-a4537814a\">Mavis Zhou</a>"
      ]
    },
    {
      "cell_type": "markdown",
      "metadata": {
        "id": "C-ZrjEEtpqGc"
      },
      "source": [
        "<hr>"
      ]
    },
    {
      "cell_type": "markdown",
      "metadata": {
        "id": "THhFrEECpqGd"
      },
      "source": [
        "<p>Copyright &copy; 2018 IBM Developer Skills Network. This notebook and its source code are released under the terms of the <a href=\"https://cognitiveclass.ai/mit-license/\">MIT License</a>.</p>"
      ]
    }
  ]
}