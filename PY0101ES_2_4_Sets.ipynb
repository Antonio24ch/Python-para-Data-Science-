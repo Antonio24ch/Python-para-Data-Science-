{
  "nbformat": 4,
  "nbformat_minor": 0,
  "metadata": {
    "kernelspec": {
      "display_name": "Python",
      "language": "python",
      "name": "conda-env-python-py"
    },
    "language_info": {
      "codemirror_mode": {
        "name": "ipython",
        "version": 3
      },
      "file_extension": ".py",
      "mimetype": "text/x-python",
      "name": "python",
      "nbconvert_exporter": "python",
      "pygments_lexer": "ipython3",
      "version": "3.6.13"
    },
    "colab": {
      "name": "PY0101ES-2-4-Sets.ipynb",
      "provenance": [],
      "include_colab_link": true
    }
  },
  "cells": [
    {
      "cell_type": "markdown",
      "metadata": {
        "id": "view-in-github",
        "colab_type": "text"
      },
      "source": [
        "<a href=\"https://colab.research.google.com/github/Antonio24ch/Python-para-Data-Science-/blob/main/PY0101ES_2_4_Sets.ipynb\" target=\"_parent\"><img src=\"https://colab.research.google.com/assets/colab-badge.svg\" alt=\"Open In Colab\"/></a>"
      ]
    },
    {
      "cell_type": "markdown",
      "metadata": {
        "id": "Z3ICQEZ5j5He"
      },
      "source": [
        "<a href=\"https://cognitiveclass.ai/\">\n",
        "    <img src=\"https://s3-api.us-geo.objectstorage.softlayer.net/cf-courses-data/CognitiveClass/PY0101EN/Ad/CCLog.png\" width=\"200\" align=\"center\">\n",
        "</a>"
      ]
    },
    {
      "cell_type": "markdown",
      "metadata": {
        "id": "NyRCjTMfj5Hg"
      },
      "source": [
        "<h1>Conjuntos en Python</h1>"
      ]
    },
    {
      "cell_type": "markdown",
      "metadata": {
        "id": "gg4HPuagj5Hh"
      },
      "source": [
        "<p><strong>¡Bienvenido!</strong> En este cuaderno aprenderás acerca del uso de conjuntos con el Lenguaje de Programación Python. Al final del laboratorio, sabrás lo básico sobre operaciones con conjuntos, adema de qué son, y las operaciones lógicas que puedes hacer con ellos.</p> "
      ]
    },
    {
      "cell_type": "markdown",
      "metadata": {
        "id": "YIggAcFij5Hh"
      },
      "source": [
        "<h2>Tabla de Contenido</h2>\n",
        "<div class=\"alert alert-block alert-info\" style=\"margin-top: 20px\">\n",
        "    <ul>\n",
        "        <li>\n",
        "            <a href=\"#set\">Conjuntos</a>\n",
        "            <ul>\n",
        "                <li><a href=\"content\">Contenido de un Conjunto</a></li>\n",
        "                <li><a href=\"op\">Operaciones con Conjuntos</a></li>\n",
        "                <li><a href=\"logic\">Operacion Lógicas con Conjuntos</a></li>\n",
        "            </ul>\n",
        "        </li>\n",
        "        <li>\n",
        "            <a href=\"#quiz\">Cuestionario sobre conjuntos</a>\n",
        "        </li>\n",
        "    </ul>\n",
        "    <p>\n",
        "        Tiempo Estimado: <strong>20 min</strong>\n",
        "    </p>\n",
        "</div>\n",
        "\n",
        "<hr>"
      ]
    },
    {
      "cell_type": "markdown",
      "metadata": {
        "id": "5V3yGSp3j5Hj"
      },
      "source": [
        "<h2 id=\"set\">Conjuntos</h2>"
      ]
    },
    {
      "cell_type": "markdown",
      "metadata": {
        "id": "6WD-nTpBj5Hk"
      },
      "source": [
        "<h3 id=\"content\">Contenido de un Conjunto</h3>"
      ]
    },
    {
      "cell_type": "markdown",
      "metadata": {
        "id": "Txw41AEuj5Hk"
      },
      "source": [
        "Un conjunto es una colección de objetos únicos en Python. Un conjunto se define usando llaves de apertura y cierre <b>{}</b>. Python removerá automáticamente elementos duplicados."
      ]
    },
    {
      "cell_type": "code",
      "metadata": {
        "id": "KYZ9pS-rj5Hm",
        "outputId": "416cf157-9ce2-469f-8b0b-68b5d195e4fe"
      },
      "source": [
        "# Crear un conjunto\n",
        "\n",
        "set1 = {\"pop\", \"rock\", \"soul\", \"hard rock\", \"rock\", \"R&B\", \"rock\", \"disco\"}\n",
        "set1"
      ],
      "execution_count": null,
      "outputs": [
        {
          "output_type": "execute_result",
          "data": {
            "text/plain": [
              "{'R&B', 'disco', 'hard rock', 'pop', 'rock', 'soul'}"
            ]
          },
          "metadata": {
            "tags": []
          },
          "execution_count": 1
        }
      ]
    },
    {
      "cell_type": "markdown",
      "metadata": {
        "id": "vIsUDDjRj5Hs"
      },
      "source": [
        "El proceso de mapeado se muestra en la siguiente figura:"
      ]
    },
    {
      "cell_type": "markdown",
      "metadata": {
        "id": "yCud5v5jj5Hv"
      },
      "source": [
        "<img src=\"https://s3-api.us-geo.objectstorage.softlayer.net/cf-courses-data/CognitiveClass/PY0101EN/Chapter%202/Images/SetsUnique.png\" width=\"1100\" />"
      ]
    },
    {
      "cell_type": "markdown",
      "metadata": {
        "id": "MKMy2YoYj5Hw"
      },
      "source": [
        "También se puede crear un conjunto a partir de una lista:"
      ]
    },
    {
      "cell_type": "code",
      "metadata": {
        "scrolled": true,
        "id": "tRbtQQwlj5Hw",
        "outputId": "ae98884d-ee11-4220-8bcf-40baeb080987"
      },
      "source": [
        "# Convertir una lista en un conjunto\n",
        "\n",
        "album_list = [ \"Michael Jackson\", \"Thriller\", 1982, \"00:42:19\", \\\n",
        "              \"Pop, Rock, R&B\", 46.0, 65, \"30-Nov-82\", None, 10.0]\n",
        "album_set = set(album_list)             \n",
        "album_set"
      ],
      "execution_count": null,
      "outputs": [
        {
          "output_type": "execute_result",
          "data": {
            "text/plain": [
              "{'00:42:19',\n",
              " 10.0,\n",
              " 1982,\n",
              " '30-Nov-82',\n",
              " 46.0,\n",
              " 65,\n",
              " 'Michael Jackson',\n",
              " None,\n",
              " 'Pop, Rock, R&B',\n",
              " 'Thriller'}"
            ]
          },
          "metadata": {
            "tags": []
          },
          "execution_count": 2
        }
      ]
    },
    {
      "cell_type": "markdown",
      "metadata": {
        "id": "nU2lceNwj5Hx"
      },
      "source": [
        "Vamos a crear un conjunto de géneros musicales:"
      ]
    },
    {
      "cell_type": "code",
      "metadata": {
        "id": "lfff9qFBj5Hy",
        "outputId": "fb324c06-54c1-410b-c83f-762b92a32ef9"
      },
      "source": [
        "# Convertir una lista en un conjunto\n",
        "\n",
        "music_genres = set([\"pop\", \"pop\", \"rock\", \"folk rock\", \"hard rock\", \"soul\", \\\n",
        "                    \"progressive rock\", \"soft rock\", \"R&B\", \"disco\"])\n",
        "music_genres"
      ],
      "execution_count": null,
      "outputs": [
        {
          "output_type": "execute_result",
          "data": {
            "text/plain": [
              "{'R&B',\n",
              " 'disco',\n",
              " 'folk rock',\n",
              " 'hard rock',\n",
              " 'pop',\n",
              " 'progressive rock',\n",
              " 'rock',\n",
              " 'soft rock',\n",
              " 'soul'}"
            ]
          },
          "metadata": {
            "tags": []
          },
          "execution_count": 3
        }
      ]
    },
    {
      "cell_type": "markdown",
      "metadata": {
        "id": "7-FRbvrGj5H0"
      },
      "source": [
        "<h3 id=\"op\">Operaciones con Conjuntos</h3> "
      ]
    },
    {
      "cell_type": "markdown",
      "metadata": {
        "id": "CR5AHcsoj5H0"
      },
      "source": [
        "Vamos a revisar las operaciones con conjuntos que nos ayudaran a modificarlo. Considera el conjunto <b>A</b>:"
      ]
    },
    {
      "cell_type": "code",
      "metadata": {
        "id": "K6ieL0Zwj5H1",
        "outputId": "091d2803-b9da-40ac-9c30-471a2c3ae6e2"
      },
      "source": [
        "# Conjunto de ejemplo\n",
        "\n",
        "A = set([\"Thriller\", \"Back in Black\", \"AC/DC\"])\n",
        "A"
      ],
      "execution_count": null,
      "outputs": [
        {
          "output_type": "execute_result",
          "data": {
            "text/plain": [
              "{'AC/DC', 'Back in Black', 'Thriller'}"
            ]
          },
          "metadata": {
            "tags": []
          },
          "execution_count": 4
        }
      ]
    },
    {
      "cell_type": "markdown",
      "metadata": {
        "id": "rCjBzWoKj5H2"
      },
      "source": [
        "Podemos agregar un elemento al conjunto mediante el método <code>add()</code>:"
      ]
    },
    {
      "cell_type": "code",
      "metadata": {
        "id": "71f8SUuPj5H2",
        "outputId": "cf67597e-3efc-4b44-9cab-062352e57cf4"
      },
      "source": [
        "# Agregar un elemento al conjunto\n",
        "\n",
        "A.add(\"NSYNC\")\n",
        "A"
      ],
      "execution_count": null,
      "outputs": [
        {
          "output_type": "execute_result",
          "data": {
            "text/plain": [
              "{'AC/DC', 'Back in Black', 'NSYNC', 'Thriller'}"
            ]
          },
          "metadata": {
            "tags": []
          },
          "execution_count": 5
        }
      ]
    },
    {
      "cell_type": "markdown",
      "metadata": {
        "id": "MpVe9kSXj5H3"
      },
      "source": [
        "Si agregamos el mismo elemento dos veces nada cambiara debido a que no puede haber elemento duplicados en un conjunto:"
      ]
    },
    {
      "cell_type": "code",
      "metadata": {
        "id": "tbCJ-b6jj5H4",
        "outputId": "83a3c4dd-698d-42b6-f659-0d9e271d641f"
      },
      "source": [
        "# Trata de agregar un elemento duplicado al conjunto\n",
        "\n",
        "A.add(\"NSYNC\")\n",
        "A"
      ],
      "execution_count": null,
      "outputs": [
        {
          "output_type": "execute_result",
          "data": {
            "text/plain": [
              "{'AC/DC', 'Back in Black', 'NSYNC', 'Thriller'}"
            ]
          },
          "metadata": {
            "tags": []
          },
          "execution_count": 6
        }
      ]
    },
    {
      "cell_type": "markdown",
      "metadata": {
        "id": "pcyi6ls6j5H5"
      },
      "source": [
        "Podemos borrar un elemento del conjunto mediante el método <code>remove</code>:"
      ]
    },
    {
      "cell_type": "code",
      "metadata": {
        "id": "7i2tWvKuj5H5",
        "outputId": "df1792be-8bf4-4c58-c9fe-54c6defe19e2"
      },
      "source": [
        "# Remover un elemento del conjunto\n",
        "\n",
        "A.remove(\"NSYNC\")\n",
        "A"
      ],
      "execution_count": null,
      "outputs": [
        {
          "output_type": "execute_result",
          "data": {
            "text/plain": [
              "{'AC/DC', 'Back in Black', 'Thriller'}"
            ]
          },
          "metadata": {
            "tags": []
          },
          "execution_count": 7
        }
      ]
    },
    {
      "cell_type": "markdown",
      "metadata": {
        "id": "v6AlkD8Zj5H7"
      },
      "source": [
        "Podemos verificar si existe un elemento especifico dentro del conjunto con el comando <code>in</code>:"
      ]
    },
    {
      "cell_type": "code",
      "metadata": {
        "id": "mEAX9iU2j5H7",
        "outputId": "d4757887-1f53-44f9-be25-f6e9fbf170e6"
      },
      "source": [
        "# Verificar si existe un elemento en el conjunto\n",
        "\n",
        "\"AC/DC\" in A"
      ],
      "execution_count": null,
      "outputs": [
        {
          "output_type": "execute_result",
          "data": {
            "text/plain": [
              "True"
            ]
          },
          "metadata": {
            "tags": []
          },
          "execution_count": 8
        }
      ]
    },
    {
      "cell_type": "markdown",
      "metadata": {
        "id": "WxxUWohmj5H8"
      },
      "source": [
        "<h3 id=\"logic\">Operacion Lógicas con Conjuntos</h3>"
      ]
    },
    {
      "cell_type": "markdown",
      "metadata": {
        "id": "mAlLmBH2j5H8"
      },
      "source": [
        "Recuerda que puedes revisar la diferencia entre dos conjuntos, así como la diferencia simétrica, intersección y unión:"
      ]
    },
    {
      "cell_type": "markdown",
      "metadata": {
        "id": "qHpzL7vcj5H9"
      },
      "source": [
        "Considera estos dos conjuntos:"
      ]
    },
    {
      "cell_type": "code",
      "metadata": {
        "id": "AfWagw6-j5H_"
      },
      "source": [
        "# Conjuntos de ejemplo\n",
        "\n",
        "album_set1 = set([\"Thriller\", 'AC/DC', 'Back in Black'])\n",
        "album_set2 = set([ \"AC/DC\", \"Back in Black\", \"The Dark Side of the Moon\"])"
      ],
      "execution_count": null,
      "outputs": []
    },
    {
      "cell_type": "markdown",
      "metadata": {
        "id": "IyZKFdoPj5IA"
      },
      "source": [
        "<img src=\"https://s3-api.us-geo.objectstorage.softlayer.net/cf-courses-data/CognitiveClass/PY0101EN/Chapter%202/Images/SetsSamples.png\" width=\"650\" />"
      ]
    },
    {
      "cell_type": "code",
      "metadata": {
        "scrolled": true,
        "id": "eMwQ34SAj5IB",
        "outputId": "5e0cb619-d065-4b05-aa88-263b535f7e1c"
      },
      "source": [
        "# Imprimir dos conjuntos\n",
        "\n",
        "album_set1, album_set2"
      ],
      "execution_count": null,
      "outputs": [
        {
          "output_type": "execute_result",
          "data": {
            "text/plain": [
              "({'AC/DC', 'Back in Black', 'Thriller'},\n",
              " {'AC/DC', 'Back in Black', 'The Dark Side of the Moon'})"
            ]
          },
          "metadata": {
            "tags": []
          },
          "execution_count": 10
        }
      ]
    },
    {
      "cell_type": "markdown",
      "metadata": {
        "id": "cZRGmRnvj5IC"
      },
      "source": [
        "Como los dos conjuntos contienen <b>AC/DC</b> y <b>Back in Black</b> podemos representar estos elementos en común en la intersección de dos círculos."
      ]
    },
    {
      "cell_type": "markdown",
      "metadata": {
        "id": "wvRRHDtdj5ID"
      },
      "source": [
        "<img src = \"https://s3-api.us-geo.objectstorage.softlayer.net/cf-courses-data/CognitiveClass/PY0101EN/Chapter%202/Images/SetsLogic.png\" width = \"650\" />"
      ]
    },
    {
      "cell_type": "markdown",
      "metadata": {
        "id": "CMq54hncj5ID"
      },
      "source": [
        "Para encontrar la intersección de dos conjuntos usaremos <code>&</code>:"
      ]
    },
    {
      "cell_type": "code",
      "metadata": {
        "id": "e20OrjlUj5IE",
        "outputId": "ccdfabad-570a-493e-ce29-5f33bc154d42"
      },
      "source": [
        "# Encontrar las intersecciones\n",
        "\n",
        "intersection = album_set1 & album_set2\n",
        "intersection"
      ],
      "execution_count": null,
      "outputs": [
        {
          "output_type": "execute_result",
          "data": {
            "text/plain": [
              "{'AC/DC', 'Back in Black'}"
            ]
          },
          "metadata": {
            "tags": []
          },
          "execution_count": 11
        }
      ]
    },
    {
      "cell_type": "markdown",
      "metadata": {
        "id": "mPeaeyFjj5IF"
      },
      "source": [
        "Puedes encontrar los elementos que únicamente están dentro de <code>album_set1</code> usando el método <code>difference</code>:"
      ]
    },
    {
      "cell_type": "code",
      "metadata": {
        "id": "XTFPFmthj5IG",
        "outputId": "00339437-2230-49b6-99b8-f8c5e083736a"
      },
      "source": [
        "# Encuentra la diferencia en set1 pero no en set2\n",
        "\n",
        "album_set1.difference(album_set2)  "
      ],
      "execution_count": null,
      "outputs": [
        {
          "output_type": "execute_result",
          "data": {
            "text/plain": [
              "{'Thriller'}"
            ]
          },
          "metadata": {
            "tags": []
          },
          "execution_count": 12
        }
      ]
    },
    {
      "cell_type": "markdown",
      "metadata": {
        "id": "VXKDnD_Xj5IH"
      },
      "source": [
        "Solo tienes que considerar los elementos en <code>album_set1</code>; todos los de <code>album_set2</code>, incluyendo los de la intersección, no están incluidos."
      ]
    },
    {
      "cell_type": "markdown",
      "metadata": {
        "id": "sNtDrO9Hj5II"
      },
      "source": [
        "<img src=\"https://s3-api.us-geo.objectstorage.softlayer.net/cf-courses-data/CognitiveClass/PY0101EN/Chapter%202/Images/SetsLeft.png\" width=\"650\" />"
      ]
    },
    {
      "cell_type": "markdown",
      "metadata": {
        "id": "Jl5VTVs9j5IJ"
      },
      "source": [
        "Los elementos que pertenecen a <code>album_set2</code> pero no en <code>album_set1</code> esta dado por:"
      ]
    },
    {
      "cell_type": "code",
      "metadata": {
        "id": "EjQg2POnj5IM",
        "outputId": "353c2442-d240-4a6a-8373-6cb0d2cde12e"
      },
      "source": [
        "album_set2.difference(album_set1)  "
      ],
      "execution_count": null,
      "outputs": [
        {
          "output_type": "execute_result",
          "data": {
            "text/plain": [
              "{'The Dark Side of the Moon'}"
            ]
          },
          "metadata": {
            "tags": []
          },
          "execution_count": 13
        }
      ]
    },
    {
      "cell_type": "markdown",
      "metadata": {
        "id": "5sELTExPj5IM"
      },
      "source": [
        "<img src = \"https://s3-api.us-geo.objectstorage.softlayer.net/cf-courses-data/CognitiveClass/PY0101EN/Chapter%202/Images/SetsRight.png\" width=\"650\" />"
      ]
    },
    {
      "cell_type": "markdown",
      "metadata": {
        "id": "yjm3Z46uj5IN"
      },
      "source": [
        "Puedes encontrar la intersección de <code>album_list1</code> y <code>album_list2</code> con el método <code>intersection</code>:"
      ]
    },
    {
      "cell_type": "code",
      "metadata": {
        "id": "MEcDkKMcj5IO",
        "outputId": "0622b3ad-48b1-4bb2-fe5e-9b4dd3f0d109"
      },
      "source": [
        "# Usar el método intersection para encontrar la intersección entre of album_list1 y album_list2\n",
        "\n",
        "album_set1.intersection(album_set2)   "
      ],
      "execution_count": null,
      "outputs": [
        {
          "output_type": "execute_result",
          "data": {
            "text/plain": [
              "{'AC/DC', 'Back in Black'}"
            ]
          },
          "metadata": {
            "tags": []
          },
          "execution_count": 14
        }
      ]
    },
    {
      "cell_type": "markdown",
      "metadata": {
        "id": "6py0eSkjj5IQ"
      },
      "source": [
        "Lo siguiente corresponde a la intersección de los dos círculos:"
      ]
    },
    {
      "cell_type": "markdown",
      "metadata": {
        "id": "rqXDHANHj5IQ"
      },
      "source": [
        "<img src=\"https://s3-api.us-geo.objectstorage.softlayer.net/cf-courses-data/CognitiveClass/PY0101EN/Chapter%202/Images/SetsIntersect.png\" width=\"650\" />"
      ]
    },
    {
      "cell_type": "markdown",
      "metadata": {
        "id": "vYzvJ2IRj5IR"
      },
      "source": [
        "La unión es la suma de todos los elementos de ambos conjuntos, se representa pintando los dos círculos:"
      ]
    },
    {
      "cell_type": "markdown",
      "metadata": {
        "id": "2IkSFdxaj5IR"
      },
      "source": [
        "<img src = \"https://s3-api.us-geo.objectstorage.softlayer.net/cf-courses-data/CognitiveClass/PY0101EN/Chapter%202/Images/SetsUnion.png\" width=\"650\" />"
      ]
    },
    {
      "cell_type": "markdown",
      "metadata": {
        "id": "0ARTsZWEj5IS"
      },
      "source": [
        "La unión esta dada por:"
      ]
    },
    {
      "cell_type": "code",
      "metadata": {
        "tags": [],
        "id": "RVTB7cv0j5IS",
        "outputId": "74468790-2c18-4238-a16f-bf9dbd37a073"
      },
      "source": [
        "# Encontrar la unión de los dos conjuntos\n",
        "\n",
        "album_set1.union(album_set2)"
      ],
      "execution_count": null,
      "outputs": [
        {
          "output_type": "execute_result",
          "data": {
            "text/plain": [
              "{'AC/DC', 'Back in Black', 'The Dark Side of the Moon', 'Thriller'}"
            ]
          },
          "metadata": {
            "tags": []
          },
          "execution_count": 15
        }
      ]
    },
    {
      "cell_type": "markdown",
      "metadata": {
        "id": "p6z7g4txj5IT"
      },
      "source": [
        "Se puede averiguar si un conjunto es un súper conjunto o un sub conjunto de otro, respectivamente, de la siguiente forma:"
      ]
    },
    {
      "cell_type": "code",
      "metadata": {
        "id": "6MYLCBvwj5IT",
        "outputId": "7ee5fd3a-541c-4421-dd2f-c2c7761447d8"
      },
      "source": [
        "# Revisar si es un super conjunto\n",
        "\n",
        "set(album_set1).issuperset(album_set2)   "
      ],
      "execution_count": null,
      "outputs": [
        {
          "output_type": "execute_result",
          "data": {
            "text/plain": [
              "False"
            ]
          },
          "metadata": {
            "tags": []
          },
          "execution_count": 16
        }
      ]
    },
    {
      "cell_type": "code",
      "metadata": {
        "id": "sORexknaj5IU",
        "outputId": "587546ab-e306-4e50-9afd-f2f71d37b1e5"
      },
      "source": [
        "# Revisar si es un sub conjunto\n",
        "\n",
        "set(album_set2).issubset(album_set1)     "
      ],
      "execution_count": null,
      "outputs": [
        {
          "output_type": "execute_result",
          "data": {
            "text/plain": [
              "False"
            ]
          },
          "metadata": {
            "tags": []
          },
          "execution_count": 17
        }
      ]
    },
    {
      "cell_type": "markdown",
      "metadata": {
        "id": "Kr1Y9E0Hj5IV"
      },
      "source": [
        "Este es un ejemplo donde <code>issubset()</code> y <code>issuperset()</code> regresan un valor verdadero:"
      ]
    },
    {
      "cell_type": "code",
      "metadata": {
        "id": "oYM2YEmDj5IV",
        "outputId": "462ebcc9-7f65-43db-e659-7a5180a051e8"
      },
      "source": [
        "# Revisar si es un sub conjunto\n",
        "\n",
        "set({\"Back in Black\", \"AC/DC\"}).issubset(album_set1) "
      ],
      "execution_count": null,
      "outputs": [
        {
          "output_type": "execute_result",
          "data": {
            "text/plain": [
              "True"
            ]
          },
          "metadata": {
            "tags": []
          },
          "execution_count": 18
        }
      ]
    },
    {
      "cell_type": "code",
      "metadata": {
        "id": "U-wW-8k7j5IW",
        "outputId": "14ef860b-5638-4154-ba31-ba43261d3dff"
      },
      "source": [
        "# Revisar si es un super conjunto\n",
        "\n",
        "album_set1.issuperset({\"Back in Black\", \"AC/DC\"})   "
      ],
      "execution_count": null,
      "outputs": [
        {
          "output_type": "execute_result",
          "data": {
            "text/plain": [
              "True"
            ]
          },
          "metadata": {
            "tags": []
          },
          "execution_count": 19
        }
      ]
    },
    {
      "cell_type": "markdown",
      "metadata": {
        "id": "y0x2ZSKRj5IW"
      },
      "source": [
        "<hr>"
      ]
    },
    {
      "cell_type": "markdown",
      "metadata": {
        "id": "cRFyftw_j5IX"
      },
      "source": [
        "<h2 id=\"quiz\">Cuestionario sobre conjuntos</h2>"
      ]
    },
    {
      "cell_type": "markdown",
      "metadata": {
        "id": "0BF609Ucj5IY"
      },
      "source": [
        "Transformar la lista <code>['rap','house','electronic music', 'rap']</code> en un conjunto:"
      ]
    },
    {
      "cell_type": "code",
      "metadata": {
        "id": "v4_CcCWFj5IY",
        "outputId": "c5a7bbf2-01cf-4db5-e0b1-7de9fec9fb2e"
      },
      "source": [
        "# Escribe abajo tu código y presiona Shift+Enter para ejecutarlo\n",
        "set(['rap','house','electronic music','rap'])"
      ],
      "execution_count": null,
      "outputs": [
        {
          "output_type": "execute_result",
          "data": {
            "text/plain": [
              "{'electronic music', 'house', 'rap'}"
            ]
          },
          "metadata": {
            "tags": []
          },
          "execution_count": 21
        }
      ]
    },
    {
      "cell_type": "markdown",
      "metadata": {
        "id": "N9wpIDYPj5Id"
      },
      "source": [
        "Haz doble click <b>aquí</b> para ver la solución.\n",
        "<!-- Your answer is below:\n",
        "set(['rap','house','electronic music','rap'])\n",
        "-->"
      ]
    },
    {
      "cell_type": "markdown",
      "metadata": {
        "id": "kUK2GB7Yj5Ie"
      },
      "source": [
        "<hr>"
      ]
    },
    {
      "cell_type": "markdown",
      "metadata": {
        "id": "sKzysmK8j5Ie"
      },
      "source": [
        "Considera que la lista <code>A = [1, 2, 2, 1]</code> y el conjunto <code>B = set([1, 2, 2, 1])</code> suman <code>sum(A) = sum(B)</code>"
      ]
    },
    {
      "cell_type": "code",
      "metadata": {
        "id": "UG4E7GKTj5Ih",
        "outputId": "ed951b20-a67d-4a42-858d-1c5173440d31"
      },
      "source": [
        "# Escribe abajo tu código y presiona Shift+Enter para ejecutarlo\n",
        "A = [1, 2, 2, 1]  \n",
        "B = set([1, 2, 2, 1])\n",
        "print(\"the sum of A is:\", sum(A))\n",
        "print(\"the sum of B is:\", sum(B))"
      ],
      "execution_count": null,
      "outputs": [
        {
          "output_type": "stream",
          "text": [
            "the sum of A is: 6\n",
            "the sum of B is: 3\n"
          ],
          "name": "stdout"
        }
      ]
    },
    {
      "cell_type": "markdown",
      "metadata": {
        "id": "Rwhg4JYZj5Ii"
      },
      "source": [
        "Haz doble click <b>aquí</b> para ver la solución.\n",
        "\n",
        "<!-- Your answer is below:\n",
        "A = [1, 2, 2, 1]  \n",
        "B = set([1, 2, 2, 1])\n",
        "print(\"the sum of A is:\", sum(A))\n",
        "print(\"the sum of B is:\", sum(B))\n",
        "-->"
      ]
    },
    {
      "cell_type": "markdown",
      "metadata": {
        "id": "r72y767_j5Ii"
      },
      "source": [
        "<hr>"
      ]
    },
    {
      "cell_type": "markdown",
      "metadata": {
        "id": "1AeiWkHcj5Ij"
      },
      "source": [
        "Crea un nuevo conjunto <code>album_set3</code> que sea la unión de <code>album_set1</code> y <code>album_set2</code>:"
      ]
    },
    {
      "cell_type": "code",
      "metadata": {
        "id": "GtaA8mq7j5Ij",
        "outputId": "4e53bb65-f4f8-4059-c1d7-6ece64b1b7b0"
      },
      "source": [
        "# Escribe abajo tu código y presiona Shift+Enter para ejecutarlo\n",
        "\n",
        "album_set1 = set([\"Thriller\", 'AC/DC', 'Back in Black'])\n",
        "album_set2 = set([ \"AC/DC\", \"Back in Black\", \"The Dark Side of the Moon\"])\n",
        "album_set3 = album_set1.union(album_set2)\n",
        "album_set3"
      ],
      "execution_count": null,
      "outputs": [
        {
          "output_type": "execute_result",
          "data": {
            "text/plain": [
              "{'AC/DC', 'Back in Black', 'The Dark Side of the Moon', 'Thriller'}"
            ]
          },
          "metadata": {
            "tags": []
          },
          "execution_count": 25
        }
      ]
    },
    {
      "cell_type": "markdown",
      "metadata": {
        "id": "ZIxTalWAj5Il"
      },
      "source": [
        "Haz doble click <b>aquí</b> para ver la solución.\n",
        "\n",
        "<!-- Your answer is below:\n",
        "album_set3 = album_set1.union(album_set2)\n",
        "album_set3\n",
        "-->"
      ]
    },
    {
      "cell_type": "markdown",
      "metadata": {
        "id": "2JlB8fpnj5Im"
      },
      "source": [
        "<hr>"
      ]
    },
    {
      "cell_type": "markdown",
      "metadata": {
        "id": "wrTV8WWJj5Im"
      },
      "source": [
        "Averigua si <code>album_set1</code> es un subconjunto de <code>album_set3</code>:"
      ]
    },
    {
      "cell_type": "code",
      "metadata": {
        "id": "KfypTZq5j5In",
        "outputId": "c29d449e-49b0-48a2-a8a1-f66899f9e9e2"
      },
      "source": [
        "# Escribe abajo tu código y presiona Shift+Enter para ejecutarlo\n",
        "album_set1.issubset(album_set3)"
      ],
      "execution_count": null,
      "outputs": [
        {
          "output_type": "execute_result",
          "data": {
            "text/plain": [
              "True"
            ]
          },
          "metadata": {
            "tags": []
          },
          "execution_count": 26
        }
      ]
    },
    {
      "cell_type": "markdown",
      "metadata": {
        "id": "hijfS_Xuj5In"
      },
      "source": [
        "Haz doble click <b>aquí</b> para ver la solución.\n",
        "\n",
        "<!-- Your answer is below:\n",
        "album_set1.issubset(album_set3)\n",
        "-->"
      ]
    },
    {
      "cell_type": "markdown",
      "metadata": {
        "id": "xsUnopsXj5Io"
      },
      "source": [
        "<hr>\n",
        "<h2>¡El último ejercicio!</h2>\n",
        "<p>Felicidades, has completado tu primera lección y practica de laboratorio en Python. Sin embargo, hay algo mas que debes saber. La comunidad en Ciencia de Datos te alienta a compartir tu trabajo. La mejor forma de hacerlo es a través de GitHub. Al compartir tus cuadernos en GitHub, además de construir una reputación entre la comunidad de los científicos de datos, también te ayudará en el proceso de encontrar un trabajo. Incluso si este fuera tu primer material de trabajo, nunca es tarde para fomentar buenos hábitos. Por favor lee y analiza <a href=\"https://cognitiveclass.ai/blog/data-scientists-stand-out-by-sharing-your-notebooks/\" target=\"_blank\">este artículo</a> para aprender a compartir tu trabajo.\n",
        "<hr>"
      ]
    },
    {
      "cell_type": "markdown",
      "metadata": {
        "id": "KXgcCJIYj5Ip"
      },
      "source": [
        "<h3>Acerca de los Autores:</h3>  \n",
        "<p><a href=\"https://www.linkedin.com/in/joseph-s-50398b136/\" target=\"_blank\">Joseph Santarcangelo</a> es un Científico de Datos en IBM, además posee un doctorado en Ingeniería Eléctrica. Su trabajo de investigación se centra en el uso de Aprendizaje Automático (Machine Learning), Procesamiento de Señales y Visión Artificial para determinar el impacto de los videos en el proceso cognitivo. Joseph trabaja en IBM desde la terminación de su doctorado.</p>"
      ]
    },
    {
      "cell_type": "markdown",
      "metadata": {
        "id": "lUXFOBauj5Ip"
      },
      "source": [
        "Otros colaboradores: <a href=\"www.linkedin.com/in/jiahui-mavis-zhou-a4537814a\">Mavis Zhou</a>"
      ]
    },
    {
      "cell_type": "markdown",
      "metadata": {
        "id": "5qUUZ8Nqj5Iq"
      },
      "source": [
        "<hr>"
      ]
    },
    {
      "cell_type": "markdown",
      "metadata": {
        "id": "IgSJQlskj5Iq"
      },
      "source": [
        "<p>Copyright &copy; 2018 IBM Developer Skills Network. This notebook and its source code are released under the terms of the <a href=\"https://cognitiveclass.ai/mit-license/\">MIT License</a>.</p>"
      ]
    }
  ]
}