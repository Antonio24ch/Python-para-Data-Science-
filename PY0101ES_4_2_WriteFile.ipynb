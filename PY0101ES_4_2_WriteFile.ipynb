{
  "nbformat": 4,
  "nbformat_minor": 0,
  "metadata": {
    "kernelspec": {
      "display_name": "Python",
      "language": "python",
      "name": "conda-env-python-py"
    },
    "language_info": {
      "codemirror_mode": {
        "name": "ipython",
        "version": 3
      },
      "file_extension": ".py",
      "mimetype": "text/x-python",
      "name": "python",
      "nbconvert_exporter": "python",
      "pygments_lexer": "ipython3",
      "version": "3.6.13"
    },
    "colab": {
      "name": "PY0101ES-4-2-WriteFile.ipynb",
      "provenance": []
    }
  },
  "cells": [
    {
      "cell_type": "markdown",
      "metadata": {
        "id": "gMmz0GiFJQjy"
      },
      "source": [
        "<a href=\"https://cognitiveclass.ai/\">\n",
        "    <img src=\"https://s3-api.us-geo.objectstorage.softlayer.net/cf-courses-data/CognitiveClass/PY0101EN/Ad/CCLog.png\" width=\"200\" align=\"center\">\n",
        "</a>"
      ]
    },
    {
      "cell_type": "markdown",
      "metadata": {
        "id": "mIQw0iR0JQjz"
      },
      "source": [
        "<h1>Escribir y Guardar Archivos en Python</h1>"
      ]
    },
    {
      "cell_type": "markdown",
      "metadata": {
        "id": "_t0wqighJQj0"
      },
      "source": [
        "<p><strong>¡Bienvenido!</strong> En este cuaderno aprenderás acerca de escribir texto en un archivo usando el Lenguaje de Programación Python. Al final de se este laboratorio, sabrás como escribir y copiar un archivo.</p>"
      ]
    },
    {
      "cell_type": "markdown",
      "metadata": {
        "id": "6M5aMzw0JQj0"
      },
      "source": [
        "<h2>Tabla de Contenido</h2>\n",
        "<div class=\"alert alert-block alert-info\" style=\"margin-top: 20px\">\n",
        "    <ul>\n",
        "        <li><a href=\"write\">Escribir Archivos</a></li>\n",
        "        <li><a href=\"copy\">Copiar un Archivo</a></li>\n",
        "    </ul>\n",
        "    <p>\n",
        "        Tiempo Estimado: <strong>15 min</strong>\n",
        "    </p>\n",
        "</div>\n",
        "\n",
        "<hr>"
      ]
    },
    {
      "cell_type": "markdown",
      "metadata": {
        "id": "IZcqmqp2JQj2"
      },
      "source": [
        "<h2 id=\"write\">Escribir Archivos</h2>"
      ]
    },
    {
      "cell_type": "markdown",
      "metadata": {
        "id": "fcX-vXLYJQj2"
      },
      "source": [
        "Podemos abrir un archivo usando el método <code>write()</code> y guardar texto en una lista. Para usar el modo de escritura, en el argumento debemos asignar <b>w</b>. Vamos a escribir el archivo <b>Example2.txt</b> con la línea: <b>“This is line A”</b>"
      ]
    },
    {
      "cell_type": "code",
      "metadata": {
        "tags": [],
        "id": "ngGYrwlyJQj4"
      },
      "source": [
        "# Escribe una línea en un archivo\n",
        "example1 = \"untitled1.txt\"\n",
        "\n",
        "with open(example1, \"w\") as writefile:\n",
        "    writefile.write('Antonio Chávez')\n"
      ],
      "execution_count": 1,
      "outputs": []
    },
    {
      "cell_type": "markdown",
      "metadata": {
        "id": "aSXO-pNyJQj5"
      },
      "source": [
        "Podemos leer el archivo para ver si funcionó:"
      ]
    },
    {
      "cell_type": "code",
      "metadata": {
        "colab": {
          "base_uri": "https://localhost:8080/"
        },
        "id": "VA79GvvLJQj6",
        "outputId": "0b7947e2-c009-4d18-e1eb-f8716ec5091e"
      },
      "source": [
        "# Leer el archivo\n",
        "\n",
        "with open(example1, 'r') as testwritefile:\n",
        "    print(testwritefile.read())"
      ],
      "execution_count": 2,
      "outputs": [
        {
          "output_type": "stream",
          "text": [
            "Antonio Chávez\n"
          ],
          "name": "stdout"
        }
      ]
    },
    {
      "cell_type": "markdown",
      "metadata": {
        "id": "wGDhdQtOJQkA"
      },
      "source": [
        "Podemos escribir múltiples líneas:"
      ]
    },
    {
      "cell_type": "code",
      "metadata": {
        "tags": [],
        "id": "3Loov0HFJQkB"
      },
      "source": [
        "# Escrbir líneas en un archivo\n",
        "\n",
        "with open(example1, 'w') as writefile:\n",
        "    writefile.write(\"This is line A\\n\")\n",
        "    writefile.write(\"This is line B\\n\")"
      ],
      "execution_count": 3,
      "outputs": []
    },
    {
      "cell_type": "markdown",
      "metadata": {
        "id": "KKpr7sazJQkB"
      },
      "source": [
        "El método <code>.write()</code> funciona parecido al método <code>.readline()</code>, excepto que en vez de leer una nueva línea, la escribe. El proceso se muestra en la imagen, los distintos colores en la imagen representan una nueva línea añadida al archivo desde de cada llamada del método."
      ]
    },
    {
      "cell_type": "markdown",
      "metadata": {
        "id": "Ml37oan7JQkC"
      },
      "source": [
        "<img src=\"https://s3-api.us-geo.objectstorage.softlayer.net/cf-courses-data/CognitiveClass/PY0101EN/Chapter%204/Images/WriteLine.png\" width=\"500\" />"
      ]
    },
    {
      "cell_type": "markdown",
      "metadata": {
        "id": "_0UJS92AJQkC"
      },
      "source": [
        "Podemos revisar el archivo para ver si los resultados son correctos"
      ]
    },
    {
      "cell_type": "code",
      "metadata": {
        "colab": {
          "base_uri": "https://localhost:8080/"
        },
        "id": "23-v9RQnJQkD",
        "outputId": "3908417c-e779-4401-f87c-9636b0f3e90e"
      },
      "source": [
        "# Revisar si el archivo fue escrito\n",
        "\n",
        "with open(example1, 'r') as testwritefile:\n",
        "    print(testwritefile.read())"
      ],
      "execution_count": 4,
      "outputs": [
        {
          "output_type": "stream",
          "text": [
            "This is line A\n",
            "This is line B\n",
            "\n"
          ],
          "name": "stdout"
        }
      ]
    },
    {
      "cell_type": "markdown",
      "metadata": {
        "id": "MG5SXffgJQkE"
      },
      "source": [
        "Al asignar como argumento **a** se puede añadir una línea nueva de la siguiente manera:"
      ]
    },
    {
      "cell_type": "code",
      "metadata": {
        "id": "drWdh1z_JQkE"
      },
      "source": [
        "# Escribe una nueva línea en un archivo\n",
        "\n",
        "with open(example1, 'a') as testwritefile:\n",
        "    testwritefile.write(\"This is line C\\n\")"
      ],
      "execution_count": 5,
      "outputs": []
    },
    {
      "cell_type": "markdown",
      "metadata": {
        "id": "d4kktbplJQkF"
      },
      "source": [
        " You can verify the file has changed by running the following cell:"
      ]
    },
    {
      "cell_type": "code",
      "metadata": {
        "colab": {
          "base_uri": "https://localhost:8080/"
        },
        "id": "Op7-ctJIJQkF",
        "outputId": "bf0cb422-4952-4fba-f141-dccf0e9b3000"
      },
      "source": [
        "# Revisar si una nueva línea esta en el archivo de texto\n",
        "\n",
        "with open(example1, 'r') as testwritefile:\n",
        "    print(testwritefile.read())"
      ],
      "execution_count": 6,
      "outputs": [
        {
          "output_type": "stream",
          "text": [
            "This is line A\n",
            "This is line B\n",
            "This is line C\n",
            "\n"
          ],
          "name": "stdout"
        }
      ]
    },
    {
      "cell_type": "markdown",
      "metadata": {
        "id": "qlOaIHbhJQkG"
      },
      "source": [
        "Escribimos una lista en un archivo <b>.txt</b> de la siguiente forma:"
      ]
    },
    {
      "cell_type": "code",
      "metadata": {
        "colab": {
          "base_uri": "https://localhost:8080/"
        },
        "id": "NQuxmoHvJQkG",
        "outputId": "202190ba-61ca-4ed7-fe95-a2a0747c81f9"
      },
      "source": [
        "# Ejemplo de una lista de texto\n",
        "\n",
        "Lines = [\"This is line A\\n\", \"This is line B\\n\", \"This is line C\\n\"]\n",
        "Lines"
      ],
      "execution_count": 7,
      "outputs": [
        {
          "output_type": "execute_result",
          "data": {
            "text/plain": [
              "['This is line A\\n', 'This is line B\\n', 'This is line C\\n']"
            ]
          },
          "metadata": {
            "tags": []
          },
          "execution_count": 7
        }
      ]
    },
    {
      "cell_type": "code",
      "metadata": {
        "colab": {
          "base_uri": "https://localhost:8080/"
        },
        "id": "8fN2DQFQJQkI",
        "outputId": "69fe6656-ca2d-4605-f80b-525b366a2f50"
      },
      "source": [
        "# Escribir las cadenas de la lista a un archivo de texto\n",
        "\n",
        "with open('Example2.txt', 'w') as writefile:\n",
        "    for line in Lines:\n",
        "        print(line)\n",
        "        writefile.write(line)"
      ],
      "execution_count": 8,
      "outputs": [
        {
          "output_type": "stream",
          "text": [
            "This is line A\n",
            "\n",
            "This is line B\n",
            "\n",
            "This is line C\n",
            "\n"
          ],
          "name": "stdout"
        }
      ]
    },
    {
      "cell_type": "markdown",
      "metadata": {
        "id": "7VDD_CEDJQkJ"
      },
      "source": [
        "Podemos revisar si el archivo fue escrito al leer e imprimir los valores:"
      ]
    },
    {
      "cell_type": "code",
      "metadata": {
        "colab": {
          "base_uri": "https://localhost:8080/"
        },
        "id": "wM2cQfReJQkJ",
        "outputId": "a4c63ce4-b0f0-446b-e965-7d7fabed1db7"
      },
      "source": [
        "# Revisar si la escritura del archivo fue ejecutada con éxito\n",
        "\n",
        "with open('Example2.txt', 'r') as testwritefile:\n",
        "    print(testwritefile.read())"
      ],
      "execution_count": 9,
      "outputs": [
        {
          "output_type": "stream",
          "text": [
            "This is line A\n",
            "This is line B\n",
            "This is line C\n",
            "\n"
          ],
          "name": "stdout"
        }
      ]
    },
    {
      "cell_type": "markdown",
      "metadata": {
        "id": "3l8al2SJJQkK"
      },
      "source": [
        "De nuevo, podemos añadir al archivo cambiando el segundo parámetro a <b>a</b>. De esta forma se añade el código:"
      ]
    },
    {
      "cell_type": "code",
      "metadata": {
        "id": "6Pvjj3eUJQkK"
      },
      "source": [
        "# Adjuntar la línea al archivo\n",
        "\n",
        "with open('Example2.txt', 'a') as testwritefile:\n",
        "    testwritefile.write(\"This is line D\\n\")"
      ],
      "execution_count": 10,
      "outputs": []
    },
    {
      "cell_type": "markdown",
      "metadata": {
        "id": "x3yP9bcXJQkL"
      },
      "source": [
        "Podemos ver los resultados del archivo adjuntado:"
      ]
    },
    {
      "cell_type": "code",
      "metadata": {
        "colab": {
          "base_uri": "https://localhost:8080/"
        },
        "id": "gVelNzvBJQkL",
        "outputId": "01bb56f1-2163-4a69-f36b-aa25ee0dcd39"
      },
      "source": [
        "# Revisar si fue ejecutado con éxito\n",
        "\n",
        "with open('Example2.txt', 'r') as testwritefile:\n",
        "    print(testwritefile.read())"
      ],
      "execution_count": 11,
      "outputs": [
        {
          "output_type": "stream",
          "text": [
            "This is line A\n",
            "This is line B\n",
            "This is line C\n",
            "This is line D\n",
            "\n"
          ],
          "name": "stdout"
        }
      ]
    },
    {
      "cell_type": "markdown",
      "metadata": {
        "id": "SiZmvGuMJQkM"
      },
      "source": [
        "<hr>"
      ]
    },
    {
      "cell_type": "markdown",
      "metadata": {
        "id": "UGoEsIrNJQkR"
      },
      "source": [
        "<h2 id=\"copy\">Copiar un Archivo</h2> "
      ]
    },
    {
      "cell_type": "markdown",
      "metadata": {
        "id": "PyrpCkCPJQkR"
      },
      "source": [
        "Copiemos el archivo <b>Example2.txt</b> al archivo <b>Example3.txt</b>"
      ]
    },
    {
      "cell_type": "code",
      "metadata": {
        "id": "WFuJBtOiJQkS"
      },
      "source": [
        "# Copiar un archivo en otro\n",
        "\n",
        "with open('Example2.txt','r') as readfile:\n",
        "    with open('Example3.txt','w') as writefile:\n",
        "          for line in readfile:\n",
        "                writefile.write(line)"
      ],
      "execution_count": 12,
      "outputs": []
    },
    {
      "cell_type": "markdown",
      "metadata": {
        "id": "LURNIGEYJQkS"
      },
      "source": [
        "Podemos leer el archivo para ver si todo funciona:"
      ]
    },
    {
      "cell_type": "code",
      "metadata": {
        "colab": {
          "base_uri": "https://localhost:8080/"
        },
        "id": "QSNDMSEMJQkT",
        "outputId": "6418a1a4-c894-4e4d-8f15-98e60eda759e"
      },
      "source": [
        "# Revisar si el copiado del archivo fue ejecutado con éxito\n",
        "\n",
        "with open('Example3.txt','r') as testwritefile:\n",
        "    print(testwritefile.read())"
      ],
      "execution_count": 13,
      "outputs": [
        {
          "output_type": "stream",
          "text": [
            "This is line A\n",
            "This is line B\n",
            "This is line C\n",
            "This is line D\n",
            "\n"
          ],
          "name": "stdout"
        }
      ]
    },
    {
      "cell_type": "markdown",
      "metadata": {
        "id": "cfMxQ4_jJQkT"
      },
      "source": [
        "Después de leer archivos, además podemos escribir información en ellos y guardarlos en diferentes formatos como: **.txt, .csv, .xls (archivos de excel) etc.**. Veamos algunos ejemplos."
      ]
    },
    {
      "cell_type": "markdown",
      "metadata": {
        "id": "AERWDA8OJQkU"
      },
      "source": [
        "Revisa el directorio para asegurarte de que existe el archivo <b>.txt</b> y contiene la información escrita."
      ]
    },
    {
      "cell_type": "markdown",
      "metadata": {
        "id": "DxhCGq-4JQkU"
      },
      "source": [
        "<hr>\n",
        "<h2>¡El último ejercicio!</h2>\n",
        "<p>Felicidades, has completado tu primera lección y practica de laboratorio en Python. Sin embargo, hay algo mas que debes saber. La comunidad en Ciencia de Datos te alienta a compartir tu trabajo. La mejor forma de hacerlo es a través de GitHub. Al compartir tus cuadernos en GitHub, además de construir una reputación entre la comunidad de los científicos de datos, también te ayudará en el proceso de encontrar un trabajo. Incluso si este fuera tu primer material de trabajo, nunca es tarde para fomentar buenos hábitos. Por favor lee y analiza <a href=\"https://cognitiveclass.ai/blog/data-scientists-stand-out-by-sharing-your-notebooks/\" target=\"_blank\">este artículo</a> para aprender a compartir tu trabajo.\n",
        "<hr>"
      ]
    },
    {
      "cell_type": "markdown",
      "metadata": {
        "id": "MzAS_PZmJQkW"
      },
      "source": [
        "<h3>Acerca de los Autores:</h3>  \n",
        "<p><a href=\"https://www.linkedin.com/in/joseph-s-50398b136/\" target=\"_blank\">Joseph Santarcangelo</a> es un Científico de Datos en IBM, además posee un doctorado en Ingeniería Eléctrica. Su trabajo de investigación se centra en el uso de Aprendizaje Automático (Machine Learning), Procesamiento de Señales y Visión Artificial para determinar el impacto de los videos en el proceso cognitivo. Joseph trabaja en IBM desde la terminación de su doctorado.</p>"
      ]
    },
    {
      "cell_type": "markdown",
      "metadata": {
        "id": "349m6yVoJQkW"
      },
      "source": [
        "Otros colaboradores: <a href=\"www.linkedin.com/in/jiahui-mavis-zhou-a4537814a\">Mavis Zhou</a>"
      ]
    },
    {
      "cell_type": "markdown",
      "metadata": {
        "id": "AYHELnH0JQkX"
      },
      "source": [
        "<hr>"
      ]
    },
    {
      "cell_type": "markdown",
      "metadata": {
        "id": "V22S97jjJQkY"
      },
      "source": [
        "<p>Copyright &copy; 2018 IBM Developer Skills Network. This notebook and its source code are released under the terms of the <a href=\"https://cognitiveclass.ai/mit-license/\">MIT License</a>.</p>"
      ]
    }
  ]
}