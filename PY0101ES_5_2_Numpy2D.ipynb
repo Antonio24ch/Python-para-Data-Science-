{
  "nbformat": 4,
  "nbformat_minor": 0,
  "metadata": {
    "kernelspec": {
      "display_name": "Python",
      "language": "python",
      "name": "conda-env-python-py"
    },
    "language_info": {
      "codemirror_mode": {
        "name": "ipython",
        "version": 3
      },
      "file_extension": ".py",
      "mimetype": "text/x-python",
      "name": "python",
      "nbconvert_exporter": "python",
      "pygments_lexer": "ipython3",
      "version": "3.6.13"
    },
    "colab": {
      "name": "PY0101ES-5-2-Numpy2D.ipynb",
      "provenance": []
    }
  },
  "cells": [
    {
      "cell_type": "markdown",
      "metadata": {
        "id": "KyD4WevBvzid"
      },
      "source": [
        "<a href=\"https://cognitiveclass.ai/\">\n",
        "    <img src=\"https://s3-api.us-geo.objectstorage.softlayer.net/cf-courses-data/CognitiveClass/PY0101EN/Ad/CCLog.png\" width=\"200\" align=\"center\">\n",
        "</a>"
      ]
    },
    {
      "cell_type": "markdown",
      "metadata": {
        "id": "LVKhezlRvzig"
      },
      "source": [
        "<h1>Arreglos de Dos Dimensiones <code>Numpy</code> en Python</h1>"
      ]
    },
    {
      "cell_type": "markdown",
      "metadata": {
        "id": "E_gk5laDvzij"
      },
      "source": [
        "<p><strong>¡Bienvenido!</strong> En este cuaderno aprenderás acerca de <code>Numpy</code> en el Lenguaje de Programación Python. Al final de este laboratorio, sabrás lo que es <code>Numpy</code> y sus operaciones.</p>"
      ]
    },
    {
      "cell_type": "markdown",
      "metadata": {
        "id": "VltEYQKmvzio"
      },
      "source": [
        "<h2>Tabla de Contenido</h2>\n",
        "<div class=\"alert alert-block alert-info\" style=\"margin-top: 20px\">\n",
        "    <ul>\n",
        "        <li><a href=\"create\">Crear un Arreglo de Dos Dimensiones Numpy</a></li>\n",
        "        <li><a href=\"access\">Acceder a los Elemento de un Arreglo Numpy</a></li>\n",
        "        <li><a href=\"op\">Operaciones Básicas</a></li>\n",
        "    </ul>\n",
        "    <p>\n",
        "        Tiempo Estimado: <strong>20 min</strong>\n",
        "    </p>\n",
        "</div>\n",
        "\n",
        "<hr>"
      ]
    },
    {
      "cell_type": "markdown",
      "metadata": {
        "id": "IE1NeJt3vziq"
      },
      "source": [
        "<h2 id=\"create\">Crear un Arreglo de Dos Dimensiones Numpy</h2>"
      ]
    },
    {
      "cell_type": "code",
      "metadata": {
        "tags": [],
        "id": "--_pHur_vziq"
      },
      "source": [
        "# Importar librerias\n",
        "\n",
        "import numpy as np \n",
        "import matplotlib.pyplot as plt"
      ],
      "execution_count": null,
      "outputs": []
    },
    {
      "cell_type": "markdown",
      "metadata": {
        "id": "YlU0m_pSvzir"
      },
      "source": [
        "Considera la lista <code>a</code>, esta lista contiene tres listas anidadas **del mismo tamaño**."
      ]
    },
    {
      "cell_type": "code",
      "metadata": {
        "id": "ahtdp1o0vzis",
        "outputId": "52c355ed-5143-4dc9-8ba0-b09db03cf39d"
      },
      "source": [
        "# Crear una lista\n",
        "\n",
        "a = [[11, 12, 13], [21, 22, 23], [31, 32, 33]]\n",
        "a"
      ],
      "execution_count": null,
      "outputs": [
        {
          "output_type": "execute_result",
          "data": {
            "text/plain": [
              "[[11, 12, 13], [21, 22, 23], [31, 32, 33]]"
            ]
          },
          "metadata": {
            "tags": []
          },
          "execution_count": 2
        }
      ]
    },
    {
      "cell_type": "markdown",
      "metadata": {
        "id": "r-pWD6RVvziu"
      },
      "source": [
        "Podemos convertir la lista en un Arreglo Numpy de la siguiente forma:"
      ]
    },
    {
      "cell_type": "code",
      "metadata": {
        "id": "MqEgb530vziv",
        "outputId": "5c1fd4b8-7749-4064-d6f4-0e903d61c632"
      },
      "source": [
        "# Convertir la lista en un Arreglo Numpy\n",
        "# Cada elemento es del mismo tipo\n",
        "\n",
        "A = np.array(a)\n",
        "A"
      ],
      "execution_count": null,
      "outputs": [
        {
          "output_type": "execute_result",
          "data": {
            "text/plain": [
              "array([[11, 12, 13],\n",
              "       [21, 22, 23],\n",
              "       [31, 32, 33]])"
            ]
          },
          "metadata": {
            "tags": []
          },
          "execution_count": 3
        }
      ]
    },
    {
      "cell_type": "markdown",
      "metadata": {
        "id": "1f00Qkf2vziw"
      },
      "source": [
        "Podemos usar el atributo <code>ndim</code> para obtener el numero de dimensiones."
      ]
    },
    {
      "cell_type": "code",
      "metadata": {
        "id": "zFJhojhYvzix",
        "outputId": "1a78b385-a7e4-4236-ce16-ec4bd7adde4e"
      },
      "source": [
        "# Muestra las dimensiones del arreglo\n",
        "\n",
        "A.ndim"
      ],
      "execution_count": null,
      "outputs": [
        {
          "output_type": "execute_result",
          "data": {
            "text/plain": [
              "2"
            ]
          },
          "metadata": {
            "tags": []
          },
          "execution_count": 4
        }
      ]
    },
    {
      "cell_type": "markdown",
      "metadata": {
        "id": "mKie7tPbvziy"
      },
      "source": [
        "El atributo <code>shape</code> regresa una tupla que corresponde al tamaño o numero de cada dimensión."
      ]
    },
    {
      "cell_type": "code",
      "metadata": {
        "id": "RtB-VTG-vziz",
        "outputId": "47ee4ace-3ba5-4408-fff2-c085efad9e9f"
      },
      "source": [
        "# Muestra la forma del arreglo\n",
        "\n",
        "A.shape"
      ],
      "execution_count": null,
      "outputs": [
        {
          "output_type": "execute_result",
          "data": {
            "text/plain": [
              "(3, 3)"
            ]
          },
          "metadata": {
            "tags": []
          },
          "execution_count": 5
        }
      ]
    },
    {
      "cell_type": "markdown",
      "metadata": {
        "id": "ASBTiyAhvziz"
      },
      "source": [
        "El número total de elementos en el arreglo esta dado por el atributo <code>size</code>."
      ]
    },
    {
      "cell_type": "code",
      "metadata": {
        "id": "Rpwxc6nnvzi0",
        "outputId": "d1eef406-0616-47ef-80de-a3cc8e533e0c"
      },
      "source": [
        "# Muestra el tamaño del arreglo\n",
        "\n",
        "A.size"
      ],
      "execution_count": null,
      "outputs": [
        {
          "output_type": "execute_result",
          "data": {
            "text/plain": [
              "9"
            ]
          },
          "metadata": {
            "tags": []
          },
          "execution_count": 6
        }
      ]
    },
    {
      "cell_type": "markdown",
      "metadata": {
        "id": "C4n9o8Vpvzi0"
      },
      "source": [
        "<hr>"
      ]
    },
    {
      "cell_type": "markdown",
      "metadata": {
        "id": "kyDQEb_lvzi1"
      },
      "source": [
        "<h2 id=\"access\">Acceder a los Elemento de un Arreglo Numpy</h2>"
      ]
    },
    {
      "cell_type": "markdown",
      "metadata": {
        "id": "LdJEO7GHvzi1"
      },
      "source": [
        "Podemos usar corchetes para acceder a los elementos del arreglo. La correspondencia entre los corchetes, la lista y la representación rectangular se muestra en la siguiente imagen para un arreglo de 3x3:"
      ]
    },
    {
      "cell_type": "markdown",
      "metadata": {
        "id": "sfbE94pxvzi2"
      },
      "source": [
        "<img src=\"https://s3-api.us-geo.objectstorage.softlayer.net/cf-courses-data/CognitiveClass/PY0101EN/Chapter%205/Images/NumTwoEg.png\" width=\"500\" />"
      ]
    },
    {
      "cell_type": "markdown",
      "metadata": {
        "id": "uo9ddbExvzi2"
      },
      "source": [
        "Podemos acceder a la segunda fila y tercera columna de la siguiente forma:"
      ]
    },
    {
      "cell_type": "markdown",
      "metadata": {
        "id": "xKfiNeZcvzi3"
      },
      "source": [
        "<img src=\"https://s3-api.us-geo.objectstorage.softlayer.net/cf-courses-data/CognitiveClass/PY0101EN/Chapter%205/Images/NumTwoFT.png\" width=\"400\" />"
      ]
    },
    {
      "cell_type": "markdown",
      "metadata": {
        "id": "IN05ZjZ8vzi4"
      },
      "source": [
        "De forma simple usamos los corchetes y los índices que corresponde al elemento que queremos:"
      ]
    },
    {
      "cell_type": "code",
      "metadata": {
        "id": "3UjtOYebvzi5",
        "outputId": "5f4bf4f4-3583-4d92-a73b-3e3ef3a538e3"
      },
      "source": [
        "# Acceder al elemento de la segunda fila y tercera columna\n",
        "\n",
        "A[1, 2]"
      ],
      "execution_count": null,
      "outputs": [
        {
          "output_type": "execute_result",
          "data": {
            "text/plain": [
              "23"
            ]
          },
          "metadata": {
            "tags": []
          },
          "execution_count": 7
        }
      ]
    },
    {
      "cell_type": "markdown",
      "metadata": {
        "id": "a5aRzMg3vzi6"
      },
      "source": [
        "La siguiente sintaxis también e puede usar para acceder a los elementos:"
      ]
    },
    {
      "cell_type": "code",
      "metadata": {
        "id": "0LOw3nacvzi7",
        "outputId": "6d7e501a-0c93-4314-c031-597a0bff6dad"
      },
      "source": [
        "# Acceder al elemento de la segunda fila y tercera columna\n",
        "\n",
        "A[1][2]"
      ],
      "execution_count": null,
      "outputs": [
        {
          "output_type": "execute_result",
          "data": {
            "text/plain": [
              "23"
            ]
          },
          "metadata": {
            "tags": []
          },
          "execution_count": 8
        }
      ]
    },
    {
      "cell_type": "markdown",
      "metadata": {
        "id": "jWLsLdERvzi7"
      },
      "source": [
        "Considérese los elementos mostrados en la siguiente imagen:"
      ]
    },
    {
      "cell_type": "markdown",
      "metadata": {
        "id": "MQB76lD9vzi8"
      },
      "source": [
        "<img src=\"https://s3-api.us-geo.objectstorage.softlayer.net/cf-courses-data/CognitiveClass/PY0101EN/Chapter%205/Images/NumTwoFF.png\" width=\"400\" />"
      ]
    },
    {
      "cell_type": "markdown",
      "metadata": {
        "id": "c9AbTvprvzi8"
      },
      "source": [
        "Accedemos a los elementos de la siguiente manera:"
      ]
    },
    {
      "cell_type": "code",
      "metadata": {
        "id": "oGJdoiIjvzi9",
        "outputId": "038c898f-d59f-4ecd-9a29-a1cbdf74765d"
      },
      "source": [
        "# Acceder al elemento de la primera fila y primera columna\n",
        "\n",
        "A[0][0]"
      ],
      "execution_count": null,
      "outputs": [
        {
          "output_type": "execute_result",
          "data": {
            "text/plain": [
              "11"
            ]
          },
          "metadata": {
            "tags": []
          },
          "execution_count": 9
        }
      ]
    },
    {
      "cell_type": "markdown",
      "metadata": {
        "id": "bjAo_-4Vvzi9"
      },
      "source": [
        "Además, podemos aplicar slicing en los arreglos numpy. Observa la siguiente imagen. Nos gustaría obtener las primeras dos columnas y la primer fila."
      ]
    },
    {
      "cell_type": "markdown",
      "metadata": {
        "id": "IyXWdK5rvzi-"
      },
      "source": [
        "<img src=\"https://s3-api.us-geo.objectstorage.softlayer.net/cf-courses-data/CognitiveClass/PY0101EN/Chapter%205/Images/NumTwoFSF.png\" width=\"400\" />"
      ]
    },
    {
      "cell_type": "markdown",
      "metadata": {
        "id": "LdiE18vjvzi-"
      },
      "source": [
        " Puede hacerse esto con la siguiente sintaxis"
      ]
    },
    {
      "cell_type": "code",
      "metadata": {
        "id": "bzqkfgwxvzi-",
        "outputId": "57a3ba5a-1c5c-47a8-9f72-1e9ec1622915"
      },
      "source": [
        "# Acceder a los elementos de la primera fila y la primera y segunda columna\n",
        "\n",
        "A[0][0:2]"
      ],
      "execution_count": null,
      "outputs": [
        {
          "output_type": "execute_result",
          "data": {
            "text/plain": [
              "array([11, 12])"
            ]
          },
          "metadata": {
            "tags": []
          },
          "execution_count": 10
        }
      ]
    },
    {
      "cell_type": "markdown",
      "metadata": {
        "id": "0Qo5y62nvzjA"
      },
      "source": [
        "De igual manera, podemos obtener las primeras dos filas de la tercer columna de esta forma:"
      ]
    },
    {
      "cell_type": "code",
      "metadata": {
        "id": "9JH9846hvzjA",
        "outputId": "52ef204a-e3c1-4317-cff2-eddddf1afeda"
      },
      "source": [
        "# Acceder a los elementos en la primera y segunda fila y tercer columna \n",
        "\n",
        "A[0:2, 2]"
      ],
      "execution_count": null,
      "outputs": [
        {
          "output_type": "execute_result",
          "data": {
            "text/plain": [
              "array([13, 23])"
            ]
          },
          "metadata": {
            "tags": []
          },
          "execution_count": 11
        }
      ]
    },
    {
      "cell_type": "markdown",
      "metadata": {
        "id": "sOBHInkZvzjB"
      },
      "source": [
        "Esto corresponde a la siguiente imagen:"
      ]
    },
    {
      "cell_type": "markdown",
      "metadata": {
        "id": "e0OQ4MEPvzjC"
      },
      "source": [
        "<img src=\"https://s3-api.us-geo.objectstorage.softlayer.net/cf-courses-data/CognitiveClass/PY0101EN/Chapter%205/Images/NumTwoTST.png\" width=\"400\" />"
      ]
    },
    {
      "cell_type": "markdown",
      "metadata": {
        "id": "o0xEbd8AvzjC"
      },
      "source": [
        "<hr>"
      ]
    },
    {
      "cell_type": "markdown",
      "metadata": {
        "id": "E_Gwr5WfvzjC"
      },
      "source": [
        "<h2 id=\"op\">Operaciones Básicas</h2>"
      ]
    },
    {
      "cell_type": "markdown",
      "metadata": {
        "id": "vByxALJzvzjD"
      },
      "source": [
        "También podemos hacer sumas entre arreglos. El proceso es idéntico al de la suma matricial. La suma matricial entre <code>X</code> y <code>Y</code> se muestra en la siguiente imagen:"
      ]
    },
    {
      "cell_type": "markdown",
      "metadata": {
        "id": "ZRaawrWfvzjD"
      },
      "source": [
        "<img src=\"https://s3-api.us-geo.objectstorage.softlayer.net/cf-courses-data/CognitiveClass/PY0101EN/Chapter%205/Images/NumTwoAdd.png\" width=\"500\" />"
      ]
    },
    {
      "cell_type": "markdown",
      "metadata": {
        "id": "YNYxJ57HvzjE"
      },
      "source": [
        "El arreglo Numpy esta dado por <code>X</code> y <code>Y</code>"
      ]
    },
    {
      "cell_type": "code",
      "metadata": {
        "id": "EsYymfrwvzjE",
        "outputId": "4942fdaa-5393-4ba0-a1d3-b1ddb19e3fa4"
      },
      "source": [
        "# Crear un arreglo X tipo numpy\n",
        "\n",
        "X = np.array([[1, 0], [0, 1]]) \n",
        "X"
      ],
      "execution_count": null,
      "outputs": [
        {
          "output_type": "execute_result",
          "data": {
            "text/plain": [
              "array([[1, 0],\n",
              "       [0, 1]])"
            ]
          },
          "metadata": {
            "tags": []
          },
          "execution_count": 12
        }
      ]
    },
    {
      "cell_type": "code",
      "metadata": {
        "id": "F1Zjhk-LvzjF",
        "outputId": "a4531d4e-70bd-4fe0-9106-f343aaf20740"
      },
      "source": [
        "# Crear un arreglo Y tipo numpy\n",
        "\n",
        "Y = np.array([[2, 1], [1, 2]]) \n",
        "Y"
      ],
      "execution_count": null,
      "outputs": [
        {
          "output_type": "execute_result",
          "data": {
            "text/plain": [
              "array([[2, 1],\n",
              "       [1, 2]])"
            ]
          },
          "metadata": {
            "tags": []
          },
          "execution_count": 13
        }
      ]
    },
    {
      "cell_type": "markdown",
      "metadata": {
        "id": "E2UQVpMsvzjG"
      },
      "source": [
        " Podemos sumar los arreglos de la siguiente manera."
      ]
    },
    {
      "cell_type": "code",
      "metadata": {
        "id": "5OP5dHEEvzjH",
        "outputId": "ff92777f-e736-445b-a9fa-b4b4705e6d87"
      },
      "source": [
        "# Sumar X y Y\n",
        "\n",
        "Z = X + Y\n",
        "Z"
      ],
      "execution_count": null,
      "outputs": [
        {
          "output_type": "execute_result",
          "data": {
            "text/plain": [
              "array([[3, 1],\n",
              "       [1, 3]])"
            ]
          },
          "metadata": {
            "tags": []
          },
          "execution_count": 14
        }
      ]
    },
    {
      "cell_type": "markdown",
      "metadata": {
        "id": "KbC6GGr6vzjL"
      },
      "source": [
        "Multiplicar un arreglo por un escalar es idéntico a multiplicar una matriz por un escalar. Si multiplicamos la matriz <code>Y</code> por el escalar 2, simplemente se multiplica a cada elemento de la matriz por 2, como se muestra en la imagen:"
      ]
    },
    {
      "cell_type": "markdown",
      "metadata": {
        "id": "n-i4Q2wqvzjM"
      },
      "source": [
        "<img src=\"https://s3-api.us-geo.objectstorage.softlayer.net/cf-courses-data/CognitiveClass/PY0101EN/Chapter%205/Images/NumTwoDb.png\" width=\"500\" />"
      ]
    },
    {
      "cell_type": "markdown",
      "metadata": {
        "id": "LPCF9yEvvzjM"
      },
      "source": [
        "Podemos realizar la misma operación en numpy de esta forma"
      ]
    },
    {
      "cell_type": "code",
      "metadata": {
        "id": "qvi2y5wovzjO",
        "outputId": "2b65cc2e-181f-4977-81ca-9d39fd54928c"
      },
      "source": [
        "# Crear un arreglo Y tipo numpy\n",
        "\n",
        "Y = np.array([[2, 1], [1, 2]]) \n",
        "Y"
      ],
      "execution_count": null,
      "outputs": [
        {
          "output_type": "execute_result",
          "data": {
            "text/plain": [
              "array([[2, 1],\n",
              "       [1, 2]])"
            ]
          },
          "metadata": {
            "tags": []
          },
          "execution_count": 15
        }
      ]
    },
    {
      "cell_type": "code",
      "metadata": {
        "id": "ps2CMb2JvzjP",
        "outputId": "dfb5b1ea-8b8c-4ae2-cd1a-51546c4b4e55"
      },
      "source": [
        "# Multiplicar Y por 2\n",
        "\n",
        "Z = 2 * Y\n",
        "Z"
      ],
      "execution_count": null,
      "outputs": [
        {
          "output_type": "execute_result",
          "data": {
            "text/plain": [
              "array([[4, 2],\n",
              "       [2, 4]])"
            ]
          },
          "metadata": {
            "tags": []
          },
          "execution_count": 16
        }
      ]
    },
    {
      "cell_type": "markdown",
      "metadata": {
        "id": "orZfBZzgvzjQ"
      },
      "source": [
        "La multiplicación de dos arreglos se corresponde al producto de Hadamard. Considérese las matrices <code>X</code> y <code>Y</code>. El producto de Hadamard es la multiplicación de cada elemento ubicado en la misma posición. En este caso, multiplicar los elementos que están en cajas del mismo color. El resultado es una nueva matriz de igual tamaño a <code>Y</code> o <code>X</code>, como se muestra a continuación:"
      ]
    },
    {
      "cell_type": "markdown",
      "metadata": {
        "id": "HceaPZI9vzjR"
      },
      "source": [
        "<img src=\"https://s3-api.us-geo.objectstorage.softlayer.net/cf-courses-data/CognitiveClass/PY0101EN/Chapter%205/Images/NumTwoMul.png\" width=\"500\" />"
      ]
    },
    {
      "cell_type": "markdown",
      "metadata": {
        "id": "25h3uA_avzjS"
      },
      "source": [
        "Podemos realizar un producto de Hadamard del arreglo <code>X</code> y <code>Y</code> de la siguiente manera:"
      ]
    },
    {
      "cell_type": "code",
      "metadata": {
        "id": "fHZl23pvvzjT",
        "outputId": "ec480506-c090-455f-c721-7b309845273c"
      },
      "source": [
        "# Crear un arreglo Y tipo numpy\n",
        "\n",
        "Y = np.array([[2, 1], [1, 2]]) \n",
        "Y"
      ],
      "execution_count": null,
      "outputs": [
        {
          "output_type": "execute_result",
          "data": {
            "text/plain": [
              "array([[2, 1],\n",
              "       [1, 2]])"
            ]
          },
          "metadata": {
            "tags": []
          },
          "execution_count": 17
        }
      ]
    },
    {
      "cell_type": "code",
      "metadata": {
        "id": "3SjC9CHBvzjU",
        "outputId": "9fa58f08-fbdc-40b6-9239-9b6b022cf2d2"
      },
      "source": [
        "# Crear un arreglo X tipo numpy\n",
        "\n",
        "X = np.array([[1, 0], [0, 1]]) \n",
        "X"
      ],
      "execution_count": null,
      "outputs": [
        {
          "output_type": "execute_result",
          "data": {
            "text/plain": [
              "array([[1, 0],\n",
              "       [0, 1]])"
            ]
          },
          "metadata": {
            "tags": []
          },
          "execution_count": 18
        }
      ]
    },
    {
      "cell_type": "code",
      "metadata": {
        "id": "ps-XEWwJvzjV",
        "outputId": "e108b08b-706a-44bf-c7d3-efc7dd6ec0bb"
      },
      "source": [
        "# Multiplicar X por Y\n",
        "\n",
        "Z = X * Y\n",
        "Z"
      ],
      "execution_count": null,
      "outputs": [
        {
          "output_type": "execute_result",
          "data": {
            "text/plain": [
              "array([[2, 0],\n",
              "       [0, 2]])"
            ]
          },
          "metadata": {
            "tags": []
          },
          "execution_count": 19
        }
      ]
    },
    {
      "cell_type": "markdown",
      "metadata": {
        "id": "Na2o6KRrvzjW"
      },
      "source": [
        "Podemos realizar una multiplicación matricial con los arreglos <code>A</code> y <code>B</code> de la siguiente forma:"
      ]
    },
    {
      "cell_type": "markdown",
      "metadata": {
        "id": "FGpPJ8v-vzjW"
      },
      "source": [
        "Primero, definimos la matriz <code>A</code> y <code>B</code>:"
      ]
    },
    {
      "cell_type": "code",
      "metadata": {
        "id": "K3kFIEl7vzjX",
        "outputId": "51ecfcc2-26bd-4027-acf6-1a95d5b0dc66"
      },
      "source": [
        "# Creamos la matriz A\n",
        "\n",
        "A = np.array([[0, 1, 1], [1, 0, 1]])\n",
        "A"
      ],
      "execution_count": null,
      "outputs": [
        {
          "output_type": "execute_result",
          "data": {
            "text/plain": [
              "array([[0, 1, 1],\n",
              "       [1, 0, 1]])"
            ]
          },
          "metadata": {
            "tags": []
          },
          "execution_count": 20
        }
      ]
    },
    {
      "cell_type": "code",
      "metadata": {
        "id": "NPhsSt4uvzjY",
        "outputId": "594aa22b-85d8-4c1c-f1de-3bc88d7707b1"
      },
      "source": [
        "# Creamos la matriz B\n",
        "\n",
        "B = np.array([[1, 1], [1, 1], [-1, 1]])\n",
        "B"
      ],
      "execution_count": null,
      "outputs": [
        {
          "output_type": "execute_result",
          "data": {
            "text/plain": [
              "array([[ 1,  1],\n",
              "       [ 1,  1],\n",
              "       [-1,  1]])"
            ]
          },
          "metadata": {
            "tags": []
          },
          "execution_count": 21
        }
      ]
    },
    {
      "cell_type": "markdown",
      "metadata": {
        "id": "lJyE_raQvzja"
      },
      "source": [
        "Usamos la función <code>dot</code> para multiplicar los arreglos entre ellos."
      ]
    },
    {
      "cell_type": "code",
      "metadata": {
        "id": "OEbbBdxCvzja"
      },
      "source": [
        "# Calcular el prodcuto matricial\n",
        "\n",
        "Z = np.dot(A,B)\n",
        "Z"
      ],
      "execution_count": null,
      "outputs": []
    },
    {
      "cell_type": "code",
      "metadata": {
        "id": "hpnC-CRFvzjb"
      },
      "source": [
        "# Calcular el seno de Z\n",
        "\n",
        "np.sin(Z)"
      ],
      "execution_count": null,
      "outputs": []
    },
    {
      "cell_type": "markdown",
      "metadata": {
        "id": "uYB4rsPvvzjb"
      },
      "source": [
        "Utilizamos el atributo <code>T</code> para calcular la matriz transpuesta"
      ]
    },
    {
      "cell_type": "code",
      "metadata": {
        "id": "FLk3xRNbvzjc"
      },
      "source": [
        "# Creamos la matriz C\n",
        "\n",
        "C = np.array([[1,1],[2,2],[3,3]])\n",
        "C"
      ],
      "execution_count": null,
      "outputs": []
    },
    {
      "cell_type": "code",
      "metadata": {
        "id": "bJeAuNlbvzjc"
      },
      "source": [
        "# Obtener la transposición de C\n",
        "\n",
        "C.T"
      ],
      "execution_count": null,
      "outputs": []
    },
    {
      "cell_type": "markdown",
      "metadata": {
        "id": "EsPbwLnkvzjc"
      },
      "source": [
        "<hr>\n",
        "<h2>¡El último ejercicio!</h2>\n",
        "<p>Felicidades, has completado tu primera lección y practica de laboratorio en Python. Sin embargo, hay algo mas que debes saber. La comunidad en Ciencia de Datos te alienta a compartir tu trabajo. La mejor forma de hacerlo es a través de GitHub. Al compartir tus cuadernos en GitHub, además de construir una reputación entre la comunidad de los científicos de datos, también te ayudará en el proceso de encontrar un trabajo. Incluso si este fuera tu primer material de trabajo, nunca es tarde para fomentar buenos hábitos. Por favor lee y analiza <a href=\"https://cognitiveclass.ai/blog/data-scientists-stand-out-by-sharing-your-notebooks/\" target=\"_blank\">este artículo</a> para aprender a compartir tu trabajo.\n",
        "<hr>"
      ]
    },
    {
      "cell_type": "markdown",
      "metadata": {
        "id": "r5nxlsHgvzjd"
      },
      "source": [
        "<h3>Acerca de los Autores:</h3>  \n",
        "<p><a href=\"https://www.linkedin.com/in/joseph-s-50398b136/\" target=\"_blank\">Joseph Santarcangelo</a> es un Científico de Datos en IBM, además posee un doctorado en Ingeniería Eléctrica. Su trabajo de investigación se centra en el uso de Aprendizaje Automático (Machine Learning), Procesamiento de Señales y Visión Artificial para determinar el impacto de los videos en el proceso cognitivo. Joseph trabaja en IBM desde la terminación de su doctorado.</p>"
      ]
    },
    {
      "cell_type": "markdown",
      "metadata": {
        "id": "jpv3Bu9Vvzje"
      },
      "source": [
        "Otros colaboradores: <a href=\"www.linkedin.com/in/jiahui-mavis-zhou-a4537814a\">Mavis Zhou</a>"
      ]
    },
    {
      "cell_type": "markdown",
      "metadata": {
        "id": "od1SSahVvzjf"
      },
      "source": [
        "<hr>"
      ]
    },
    {
      "cell_type": "markdown",
      "metadata": {
        "id": "ejzgr1i9vzjg"
      },
      "source": [
        "<p>Copyright &copy; 2018 IBM Developer Skills Network. This notebook and its source code are released under the terms of the <a href=\"https://cognitiveclass.ai/mit-license/\">MIT License</a>.</p>"
      ]
    }
  ]
}