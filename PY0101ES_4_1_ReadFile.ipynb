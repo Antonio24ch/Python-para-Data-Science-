{
  "nbformat": 4,
  "nbformat_minor": 0,
  "metadata": {
    "kernelspec": {
      "display_name": "Python",
      "language": "python",
      "name": "conda-env-python-py"
    },
    "language_info": {
      "codemirror_mode": {
        "name": "ipython",
        "version": 3
      },
      "file_extension": ".py",
      "mimetype": "text/x-python",
      "name": "python",
      "nbconvert_exporter": "python",
      "pygments_lexer": "ipython3",
      "version": "3.6.13"
    },
    "colab": {
      "name": "PY0101ES-4-1-ReadFile.ipynb",
      "provenance": []
    }
  },
  "cells": [
    {
      "cell_type": "markdown",
      "metadata": {
        "id": "WhlbDH0pP-ys"
      },
      "source": [
        "<a href=\"https://cognitiveclass.ai/\">\n",
        "    <img src=\"https://s3-api.us-geo.objectstorage.softlayer.net/cf-courses-data/CognitiveClass/PY0101EN/Ad/CCLog.png\" width=\"200\" align=\"center\">\n",
        "</a>"
      ]
    },
    {
      "cell_type": "markdown",
      "metadata": {
        "id": "womflG73P-yt"
      },
      "source": [
        "<h1>Leer Archivos en Python</h1>"
      ]
    },
    {
      "cell_type": "markdown",
      "metadata": {
        "id": "kiRMZa0TP-yu"
      },
      "source": [
        "<p><strong>¡Bienvenido!</strong> En este cuaderno aprenderás acerca de la lectura de archivos de texto en el Lenguaje de Programación Python. Al fina del laboratorio sabrás como leer archivo de texto.</p>"
      ]
    },
    {
      "cell_type": "markdown",
      "metadata": {
        "id": "WUaeSsodP-yy"
      },
      "source": [
        "<h2>Tabla de Contenido</h2>\n",
        "<div class=\"alert alert-block alert-info\" style=\"margin-top: 20px\">\n",
        "    <ul>\n",
        "        <li><a href=\"download\">Descarga de Datos</a></li>\n",
        "        <li><a href=\"read\">Lectura de Archivos de Texto</a></li>\n",
        "        <li><a href=\"better\">Una Mejor Forma de Abrir un Archivo</a></li>\n",
        "    </ul>\n",
        "    <p>\n",
        "        Tiempo Estimado: <strong>40 min</strong>\n",
        "    </p>\n",
        "</div>\n",
        "\n",
        "<hr>"
      ]
    },
    {
      "cell_type": "markdown",
      "metadata": {
        "id": "AzB-YjvoP-yz"
      },
      "source": [
        "<h2 id=\"download\">Descarga de Datos</h2>"
      ]
    },
    {
      "cell_type": "code",
      "metadata": {
        "id": "-V4ZWxP-P-y0"
      },
      "source": [
        "# Descarga de Archivo de Ejemplo\n",
        "txt = 'untitled.txt'"
      ],
      "execution_count": null,
      "outputs": []
    },
    {
      "cell_type": "markdown",
      "metadata": {
        "id": "RDYt_uyfP-y2"
      },
      "source": [
        "<hr>"
      ]
    },
    {
      "cell_type": "markdown",
      "metadata": {
        "id": "CW2u0TIgP-y3"
      },
      "source": [
        "<h2 id=\"read\">Lectura de Archivos de Texto</h2>"
      ]
    },
    {
      "cell_type": "markdown",
      "metadata": {
        "id": "ifwEh9_GP-y3"
      },
      "source": [
        "Una forma de leer o escribir un archivo en Python es usando la función <code>open</code>. La función <code>open</code> proporciona un  <b>objeto File</b> que contiene los métodos y atributo necesarios para leer, guardar y manipular el archivo. En este cuaderno, solo se cubrirá los archivos <b>.txt</b>. El primer parámetro necesario es la ruta y el nombre del archivo. Se muestra un ejemplo a continuación:"
      ]
    },
    {
      "cell_type": "markdown",
      "metadata": {
        "id": "GdOmtXbZP-y4"
      },
      "source": [
        "<img src=\"https://s3-api.us-geo.objectstorage.softlayer.net/cf-courses-data/CognitiveClass/PY0101EN/Chapter%204/Images/ReadOpen.png\" width=\"500\" />"
      ]
    },
    {
      "cell_type": "markdown",
      "metadata": {
        "id": "8do4DA2xP-y5"
      },
      "source": [
        " El argumento “mode” (modo) es opcional siendo su valor por defecto <b>r</b>. En este cuaderno solo se cubrirá dos modos: \n",
        "<ul>\n",
        "    <li><b>r</b> Modo Lectura (Read Mode) </li>\n",
        "    <li><b>w</b> Modo Escritura (Write Mode) </li>\n",
        "</ul>"
      ]
    },
    {
      "cell_type": "markdown",
      "metadata": {
        "id": "KWNf32LvP-y6"
      },
      "source": [
        "En el siguiente ejemplo, usaremos el archivo de texto <b>Example1.txt</b>. El archivo se muestra de la siguiente manera:"
      ]
    },
    {
      "cell_type": "markdown",
      "metadata": {
        "id": "SzA4M8QKP-y7"
      },
      "source": [
        "<img src=\"https://s3-api.us-geo.objectstorage.softlayer.net/cf-courses-data/CognitiveClass/PY0101EN/Chapter%204/Images/ReadFile.png\" width=\"200\" />"
      ]
    },
    {
      "cell_type": "markdown",
      "metadata": {
        "id": "Aw0vphFJP-y7"
      },
      "source": [
        "Leemos el archivo:"
      ]
    },
    {
      "cell_type": "code",
      "metadata": {
        "id": "Mn151YsYP-y8"
      },
      "source": [
        "# Leer Example1.txt\n",
        "\n",
        "example1 = \"untitled.txt\"\n",
        "file1 = open(example1, \"r\")"
      ],
      "execution_count": null,
      "outputs": []
    },
    {
      "cell_type": "markdown",
      "metadata": {
        "id": "vQP4E4IiP-y8"
      },
      "source": [
        "Podemos ver los atributos del archivo:"
      ]
    },
    {
      "cell_type": "markdown",
      "metadata": {
        "id": "A-zk-ZU5P-y9"
      },
      "source": [
        "El nombre del archivo: "
      ]
    },
    {
      "cell_type": "code",
      "metadata": {
        "id": "QB7FKi4BP-y9",
        "outputId": "46ea3942-eed0-4564-9cb7-be9a11bbf374"
      },
      "source": [
        "# Imprimir la ruta del archivo\n",
        "\n",
        "file1.name"
      ],
      "execution_count": null,
      "outputs": [
        {
          "output_type": "execute_result",
          "data": {
            "text/plain": [
              "'untitled.txt'"
            ]
          },
          "metadata": {
            "tags": []
          },
          "execution_count": 36
        }
      ]
    },
    {
      "cell_type": "markdown",
      "metadata": {
        "id": "hKT7vZqhP-y_"
      },
      "source": [
        "El modo de operación del archivo:"
      ]
    },
    {
      "cell_type": "code",
      "metadata": {
        "id": "htTUBN9jP-zA",
        "outputId": "b7b0e360-f09d-4a4b-8025-77450a980b79"
      },
      "source": [
        "# El modo de operación del archivo, puede ser 'r' (lectura) o 'w' (escritura)\n",
        "\n",
        "file1.mode"
      ],
      "execution_count": null,
      "outputs": [
        {
          "output_type": "execute_result",
          "data": {
            "text/plain": [
              "'r'"
            ]
          },
          "metadata": {
            "tags": []
          },
          "execution_count": 37
        }
      ]
    },
    {
      "cell_type": "markdown",
      "metadata": {
        "id": "aMlo-y3yP-zB"
      },
      "source": [
        "Podemos leer el archivo y asignarlo como valor a una variable:"
      ]
    },
    {
      "cell_type": "code",
      "metadata": {
        "id": "2NhhxmGxP-zB",
        "outputId": "7f00aa2b-763f-46c6-9922-a76eacf17094"
      },
      "source": [
        "# Leer el archivo\n",
        "\n",
        "FileContent = file1.read()\n",
        "FileContent"
      ],
      "execution_count": null,
      "outputs": [
        {
          "output_type": "execute_result",
          "data": {
            "text/plain": [
              "'This is line 1 \\nThis is line 2\\nThis is line 3'"
            ]
          },
          "metadata": {
            "tags": []
          },
          "execution_count": 38
        }
      ]
    },
    {
      "cell_type": "markdown",
      "metadata": {
        "id": "PmrWmSqOP-zE"
      },
      "source": [
        "La <b>/n</b> significa que hay una nueva línea. "
      ]
    },
    {
      "cell_type": "markdown",
      "metadata": {
        "id": "Llu7fp9EP-zF"
      },
      "source": [
        "Podemos imprimir el archivo:"
      ]
    },
    {
      "cell_type": "code",
      "metadata": {
        "id": "4_AtfZyQP-zF"
      },
      "source": [
        "# Imprime el archivo con '\\n' como nueva línea \n",
        "\n",
        "print(FileContent)"
      ],
      "execution_count": null,
      "outputs": []
    },
    {
      "cell_type": "markdown",
      "metadata": {
        "id": "geF2grF_P-zG"
      },
      "source": [
        "El archivo es de tipo cadena:"
      ]
    },
    {
      "cell_type": "code",
      "metadata": {
        "id": "9kvunOJUP-zG"
      },
      "source": [
        "# Tipo del contenido del archivo\n",
        "\n",
        "type(FileContent)"
      ],
      "execution_count": null,
      "outputs": []
    },
    {
      "cell_type": "markdown",
      "metadata": {
        "id": "mr6-r8uOP-zG"
      },
      "source": [
        "Debemos cerrar el objeto tipo archivo:"
      ]
    },
    {
      "cell_type": "code",
      "metadata": {
        "collapsed": true,
        "jupyter": {
          "outputs_hidden": true
        },
        "id": "Sbu66LJOP-zH"
      },
      "source": [
        "# Cerrar el archivo al terminar\n",
        "\n",
        "file1.close()"
      ],
      "execution_count": null,
      "outputs": []
    },
    {
      "cell_type": "markdown",
      "metadata": {
        "id": "W6xmXoIaP-zH"
      },
      "source": [
        "<hr>"
      ]
    },
    {
      "cell_type": "markdown",
      "metadata": {
        "id": "vk2Ot95GP-zI"
      },
      "source": [
        "<h2 id=\"better\">Una Mejor Forma de Abrir un Archivo</h2>"
      ]
    },
    {
      "cell_type": "markdown",
      "metadata": {
        "id": "goKNIEWFP-zI"
      },
      "source": [
        "La declaración <code>with</code> automáticamente cierra el archivo incluso si se encuentra una excepción en la ejecución del código. El código ejecutara todo lo del bloque con sangría, después cerrara el archivo."
      ]
    },
    {
      "cell_type": "code",
      "metadata": {
        "id": "tJIOV4KkP-zJ"
      },
      "source": [
        "# Abrir un archivo utilizando with\n",
        "\n",
        "with open(example1, \"r\") as file1:\n",
        "    FileContent = file1.read()\n",
        "    print(FileContent)"
      ],
      "execution_count": null,
      "outputs": []
    },
    {
      "cell_type": "markdown",
      "metadata": {
        "id": "sCo9oFa4P-zJ"
      },
      "source": [
        "El objeto archive esta cerrado, puedes verificar esto ejecutando el próximo código:"
      ]
    },
    {
      "cell_type": "code",
      "metadata": {
        "id": "dCNH4cnkP-zJ"
      },
      "source": [
        "# Verificar si el archivo esta cerrado\n",
        "\n",
        "file1.closed"
      ],
      "execution_count": null,
      "outputs": []
    },
    {
      "cell_type": "markdown",
      "metadata": {
        "id": "ucTke-IiP-zK"
      },
      "source": [
        "Podemos ver la información del archivo"
      ]
    },
    {
      "cell_type": "code",
      "metadata": {
        "id": "UxR9P8aGP-zK"
      },
      "source": [
        "# Ver el contenido del archivo\n",
        "\n",
        "print(FileContent)"
      ],
      "execution_count": null,
      "outputs": []
    },
    {
      "cell_type": "markdown",
      "metadata": {
        "id": "ZRJRzu5BP-zL"
      },
      "source": [
        "La sintaxis es un poco confusa debido a que el objeto archivo esta después de la declaración <code>as</code>. Ademas no cerramos explícitamente el archivo. Por lo tanto, se resumen los pasos en una imagen:"
      ]
    },
    {
      "cell_type": "markdown",
      "metadata": {
        "id": "OTm1WYnoP-zL"
      },
      "source": [
        "<img src=\"https://s3-api.us-geo.objectstorage.softlayer.net/cf-courses-data/CognitiveClass/PY0101EN/Chapter%204/Images/ReadWith.png\" width=\"500\" />"
      ]
    },
    {
      "cell_type": "markdown",
      "metadata": {
        "id": "KiY6Yrr3P-zM"
      },
      "source": [
        "No se tiene que leer el archivo completo, por ejemplo, podemos leer los primeros 4 caracteres poniendo 3 como parámetro en el método **.read()**:"
      ]
    },
    {
      "cell_type": "code",
      "metadata": {
        "id": "SEN0TFg2P-zM"
      },
      "source": [
        "# Lee los primeros cuatro caracteres\n",
        "\n",
        "with open(example1, \"r\") as file1:\n",
        "    print(file1.read(4))"
      ],
      "execution_count": null,
      "outputs": []
    },
    {
      "cell_type": "markdown",
      "metadata": {
        "id": "sSy5MN1GP-zN"
      },
      "source": [
        "Una vez que el método <code>.read(4)</code> es llamado los primeros 4 caracteres son mostrados. Si llamamos al método otra vez, los próximos 4 caracteres se llamarán. La salida en el siguiente bloque de código mostrara el proceso con diferentes valores de entrada para el método <code>read()</code>:"
      ]
    },
    {
      "cell_type": "code",
      "metadata": {
        "id": "XJ6WiiIyP-zN"
      },
      "source": [
        "# Lee cierta cantidad de caracteres\n",
        "\n",
        "with open(example1, \"r\") as file1:\n",
        "    print(file1.read(4))\n",
        "    print(file1.read(4))\n",
        "    print(file1.read(7))\n",
        "    print(file1.read(15))"
      ],
      "execution_count": null,
      "outputs": []
    },
    {
      "cell_type": "markdown",
      "metadata": {
        "id": "1uXnnQyhP-zO"
      },
      "source": [
        "El proceso se muestra en la imagen de abajo, cada color representa la parte leída del archivo después de llamar al método <code>read()</code>:"
      ]
    },
    {
      "cell_type": "markdown",
      "metadata": {
        "id": "-HeUTI0CP-zO"
      },
      "source": [
        "<img src=\"https://s3-api.us-geo.objectstorage.softlayer.net/cf-courses-data/CognitiveClass/PY0101EN/Chapter%204/Images/ReadChar.png\" width=\"500\" />"
      ]
    },
    {
      "cell_type": "markdown",
      "metadata": {
        "id": "oAwrGZPJP-zP"
      },
      "source": [
        "Aquí se muestra un ejemplo usando el mismo archivo, pero esta vez se lee 16, 5 y después 9 caracteres a la vez."
      ]
    },
    {
      "cell_type": "code",
      "metadata": {
        "id": "TAEHQ-PNP-zP"
      },
      "source": [
        "# Lee cierta cantidad de caracteres\n",
        "\n",
        "with open(example1, \"r\") as file1:\n",
        "    print(file1.read(16))\n",
        "    print(file1.read(5))\n",
        "    print(file1.read(9))"
      ],
      "execution_count": null,
      "outputs": []
    },
    {
      "cell_type": "markdown",
      "metadata": {
        "id": "79KnkbZCP-zQ"
      },
      "source": [
        "También podemos leer una línea del archivo a la vez usando el método <code>readline()</code>:"
      ]
    },
    {
      "cell_type": "code",
      "metadata": {
        "id": "Lh9IkFc_P-zQ"
      },
      "source": [
        "# Lee una línea\n",
        "\n",
        "with open(example1, \"r\") as file1:\n",
        "    print(\"first line: \" + file1.readline())"
      ],
      "execution_count": null,
      "outputs": []
    },
    {
      "cell_type": "markdown",
      "metadata": {
        "id": "8mz_wbXJP-zR"
      },
      "source": [
        "Podemos usar un bucle para iterar a través de cada línea:"
      ]
    },
    {
      "cell_type": "code",
      "metadata": {
        "id": "C_pqb9gkP-zR"
      },
      "source": [
        "# Iterar a través de una línea:\n",
        "\n",
        "with open(example1,\"r\") as file1:\n",
        "        i = 0;\n",
        "        for line in file1:\n",
        "            print(\"Iteration\", str(i), \": \", line)\n",
        "            i = i + 1;"
      ],
      "execution_count": null,
      "outputs": []
    },
    {
      "cell_type": "markdown",
      "metadata": {
        "id": "qo9u9jSPP-zS"
      },
      "source": [
        "Podemos usar el método <code>readlines()</code> para guardar el texto del archivo en una linea:"
      ]
    },
    {
      "cell_type": "code",
      "metadata": {
        "collapsed": true,
        "jupyter": {
          "outputs_hidden": true
        },
        "id": "KS3On3lDP-zX"
      },
      "source": [
        "# Leer todas las líneas y guardarlas como una lista\n",
        "\n",
        "with open(example1, \"r\") as file1:\n",
        "    FileasList = file1.readlines()"
      ],
      "execution_count": null,
      "outputs": []
    },
    {
      "cell_type": "markdown",
      "metadata": {
        "id": "J8_tQkqEP-zY"
      },
      "source": [
        "Cada elemento de la lista corresponde a una línea de texto:"
      ]
    },
    {
      "cell_type": "code",
      "metadata": {
        "id": "uKefQaVvP-zZ"
      },
      "source": [
        "# Imprimir la primea línea\n",
        "\n",
        "FileasList[0]"
      ],
      "execution_count": null,
      "outputs": []
    },
    {
      "cell_type": "code",
      "metadata": {
        "id": "8B5tjcRsP-za"
      },
      "source": [
        "# Imprimir la segunda línea\n",
        "\n",
        "FileasList[1]"
      ],
      "execution_count": null,
      "outputs": []
    },
    {
      "cell_type": "code",
      "metadata": {
        "id": "m0QQHGZWP-zb"
      },
      "source": [
        "# Imprimir la tercera línea\n",
        "\n",
        "FileasList[2]"
      ],
      "execution_count": null,
      "outputs": []
    },
    {
      "cell_type": "markdown",
      "metadata": {
        "id": "DB_DIxxKP-zb"
      },
      "source": [
        "<hr>\n",
        "<h2>¡El último ejercicio!</h2>\n",
        "<p>Felicidades, has completado tu primera lección y practica de laboratorio en Python. Sin embargo, hay algo mas que debes saber. La comunidad en Ciencia de Datos te alienta a compartir tu trabajo. La mejor forma de hacerlo es a través de GitHub. Al compartir tus cuadernos en GitHub, además de construir una reputación entre la comunidad de los científicos de datos, también te ayudará en el proceso de encontrar un trabajo. Incluso si este fuera tu primer material de trabajo, nunca es tarde para fomentar buenos hábitos. Por favor lee y analiza <a href=\"https://cognitiveclass.ai/blog/data-scientists-stand-out-by-sharing-your-notebooks/\" target=\"_blank\">este artículo</a> para aprender a compartir tu trabajo.\n",
        "<hr>"
      ]
    },
    {
      "cell_type": "markdown",
      "metadata": {
        "id": "boRKvdnKP-zc"
      },
      "source": [
        "<h3>Acerca de los Autores:</h3>  \n",
        "<p><a href=\"https://www.linkedin.com/in/joseph-s-50398b136/\" target=\"_blank\">Joseph Santarcangelo</a> es un Científico de Datos en IBM, además posee un doctorado en Ingeniería Eléctrica. Su trabajo de investigación se centra en el uso de Aprendizaje Automático (Machine Learning), Procesamiento de Señales y Visión Artificial para determinar el impacto de los videos en el proceso cognitivo. Joseph trabaja en IBM desde la terminación de su doctorado.</p>"
      ]
    },
    {
      "cell_type": "markdown",
      "metadata": {
        "id": "vhINwpNCP-zd"
      },
      "source": [
        "Otros colaboradores: <a href=\"www.linkedin.com/in/jiahui-mavis-zhou-a4537814a\">Mavis Zhou</a>"
      ]
    },
    {
      "cell_type": "markdown",
      "metadata": {
        "id": "BoD37fpnP-zd"
      },
      "source": [
        "<hr>"
      ]
    },
    {
      "cell_type": "markdown",
      "metadata": {
        "id": "QX10x5ILP-zd"
      },
      "source": [
        "<p>Copyright &copy; 2018 IBM Developer Skills Network. This notebook and its source code are released under the terms of the <a href=\"https://cognitiveclass.ai/mit-license/\">MIT License</a>.</p>"
      ]
    }
  ]
}